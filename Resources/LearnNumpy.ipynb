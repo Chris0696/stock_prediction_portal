{
 "cells": [
  {
   "cell_type": "code",
   "execution_count": 1,
   "id": "e411f593-7839-4ef7-9126-5c251faa25b8",
   "metadata": {},
   "outputs": [],
   "source": [
    "import numpy as np"
   ]
  },
  {
   "cell_type": "code",
   "execution_count": 2,
   "id": "f3705845-a58b-4e03-ae02-c19a8b504a9e",
   "metadata": {},
   "outputs": [
    {
     "data": {
      "text/plain": [
       "'1.26.4'"
      ]
     },
     "execution_count": 2,
     "metadata": {},
     "output_type": "execute_result"
    }
   ],
   "source": [
    "np.__version__"
   ]
  },
  {
   "cell_type": "markdown",
   "id": "6947bdd0-3111-4266-9a3f-c92637351e80",
   "metadata": {},
   "source": [
    "# Create & Read"
   ]
  },
  {
   "cell_type": "markdown",
   "id": "3ccc7159-ed30-4579-8c01-a54c6721287a",
   "metadata": {},
   "source": [
    "#### 1D Array"
   ]
  },
  {
   "cell_type": "code",
   "execution_count": 4,
   "id": "cbd9d760-0c3a-4276-8826-94df398d071a",
   "metadata": {},
   "outputs": [
    {
     "data": {
      "text/plain": [
       "array([1, 2, 3, 4, 5])"
      ]
     },
     "execution_count": 4,
     "metadata": {},
     "output_type": "execute_result"
    }
   ],
   "source": [
    "arr1 = np.array([1, 2, 3, 4, 5])\n",
    "arr1 "
   ]
  },
  {
   "cell_type": "code",
   "execution_count": 5,
   "id": "11865c69-e7cd-4dc3-b84f-09910b0b6436",
   "metadata": {},
   "outputs": [
    {
     "data": {
      "text/plain": [
       "numpy.ndarray"
      ]
     },
     "execution_count": 5,
     "metadata": {},
     "output_type": "execute_result"
    }
   ],
   "source": [
    "type(arr1)"
   ]
  },
  {
   "cell_type": "code",
   "execution_count": 6,
   "id": "b97515ad-2b78-4b0d-b7ef-6537aa1d8676",
   "metadata": {},
   "outputs": [
    {
     "data": {
      "text/plain": [
       "(5,)"
      ]
     },
     "execution_count": 6,
     "metadata": {},
     "output_type": "execute_result"
    }
   ],
   "source": [
    "arr1.shape"
   ]
  },
  {
   "cell_type": "code",
   "execution_count": 7,
   "id": "bc093dec-aa94-4df5-b608-db41bb611f54",
   "metadata": {},
   "outputs": [
    {
     "data": {
      "text/plain": [
       "dtype('int32')"
      ]
     },
     "execution_count": 7,
     "metadata": {},
     "output_type": "execute_result"
    }
   ],
   "source": [
    "arr1.dtype"
   ]
  },
  {
   "cell_type": "code",
   "execution_count": 10,
   "id": "3487e268-8884-4fb7-a697-0d3f0498a4ec",
   "metadata": {},
   "outputs": [
    {
     "data": {
      "text/plain": [
       "1"
      ]
     },
     "execution_count": 10,
     "metadata": {},
     "output_type": "execute_result"
    }
   ],
   "source": [
    "arr1.ndim # Pour savoir la dimension d'un tableau "
   ]
  },
  {
   "cell_type": "code",
   "execution_count": 11,
   "id": "89613503-1c38-4668-a623-de9cf27aec13",
   "metadata": {},
   "outputs": [
    {
     "data": {
      "text/plain": [
       "5"
      ]
     },
     "execution_count": 11,
     "metadata": {},
     "output_type": "execute_result"
    }
   ],
   "source": [
    "arr1.size"
   ]
  },
  {
   "cell_type": "markdown",
   "id": "22d20602-2476-4eca-9aba-65b940e7d4e5",
   "metadata": {},
   "source": [
    "#### 2D Array"
   ]
  },
  {
   "cell_type": "code",
   "execution_count": 13,
   "id": "bd67d05e-ed01-41c7-9d6e-f50913d22d04",
   "metadata": {},
   "outputs": [
    {
     "data": {
      "text/plain": [
       "array([[1, 5, 6],\n",
       "       [2, 7, 9]])"
      ]
     },
     "execution_count": 13,
     "metadata": {},
     "output_type": "execute_result"
    }
   ],
   "source": [
    "arr2 = np.array([[1,5,6], [2,7,9]])\n",
    "arr2"
   ]
  },
  {
   "cell_type": "code",
   "execution_count": 14,
   "id": "14e3c7e7-9fa0-4ee6-a50c-93bfe1871026",
   "metadata": {},
   "outputs": [
    {
     "data": {
      "text/plain": [
       "2"
      ]
     },
     "execution_count": 14,
     "metadata": {},
     "output_type": "execute_result"
    }
   ],
   "source": [
    "arr2.ndim"
   ]
  },
  {
   "cell_type": "code",
   "execution_count": 15,
   "id": "ab7eb649-c221-4ef5-a62a-d73c28250cc1",
   "metadata": {},
   "outputs": [
    {
     "data": {
      "text/plain": [
       "(2, 3)"
      ]
     },
     "execution_count": 15,
     "metadata": {},
     "output_type": "execute_result"
    }
   ],
   "source": [
    "arr2.shape # (row, col)"
   ]
  },
  {
   "cell_type": "code",
   "execution_count": 16,
   "id": "6bd19689-2f56-4ff1-bb6b-1e6586a322f5",
   "metadata": {},
   "outputs": [
    {
     "data": {
      "text/plain": [
       "dtype('int32')"
      ]
     },
     "execution_count": 16,
     "metadata": {},
     "output_type": "execute_result"
    }
   ],
   "source": [
    "arr2.dtype"
   ]
  },
  {
   "cell_type": "code",
   "execution_count": 17,
   "id": "a12a26ce-abb9-4b7f-b27a-bc7623df9dee",
   "metadata": {},
   "outputs": [
    {
     "data": {
      "text/plain": [
       "6"
      ]
     },
     "execution_count": 17,
     "metadata": {},
     "output_type": "execute_result"
    }
   ],
   "source": [
    "arr2.size"
   ]
  },
  {
   "cell_type": "markdown",
   "id": "970c249b-547a-48b2-9a56-7ba271a3a36a",
   "metadata": {},
   "source": [
    "#### 3D Array "
   ]
  },
  {
   "cell_type": "code",
   "execution_count": 25,
   "id": "51fb311f-b0d8-4724-a39a-63fb0b84c58b",
   "metadata": {},
   "outputs": [
    {
     "data": {
      "text/plain": [
       "array([[[1, 5, 6],\n",
       "        [2, 7, 9]],\n",
       "\n",
       "       [[5, 4, 8],\n",
       "        [7, 2, 3]],\n",
       "\n",
       "       [[0, 4, 3],\n",
       "        [5, 0, 3]]])"
      ]
     },
     "execution_count": 25,
     "metadata": {},
     "output_type": "execute_result"
    }
   ],
   "source": [
    "arr3 = np.array([[[1,5,6], [2,7,9]], [[5, 4, 8], [7, 2, 3]], [[0, 4, 3], [5, 0, 3]]])\n",
    "arr3"
   ]
  },
  {
   "cell_type": "code",
   "execution_count": 26,
   "id": "4aaa0569-23de-437c-a616-fc5dd9845a06",
   "metadata": {},
   "outputs": [
    {
     "data": {
      "text/plain": [
       "3"
      ]
     },
     "execution_count": 26,
     "metadata": {},
     "output_type": "execute_result"
    }
   ],
   "source": [
    "arr3.ndim"
   ]
  },
  {
   "cell_type": "code",
   "execution_count": 27,
   "id": "08519f9b-c576-48e0-ad5f-3b7735617014",
   "metadata": {},
   "outputs": [
    {
     "data": {
      "text/plain": [
       "(3, 2, 3)"
      ]
     },
     "execution_count": 27,
     "metadata": {},
     "output_type": "execute_result"
    }
   ],
   "source": [
    "arr3.shape"
   ]
  },
  {
   "cell_type": "markdown",
   "id": "cacc85c9-bd6a-4252-b959-3e34e67ce321",
   "metadata": {},
   "source": [
    "### Create Random Array"
   ]
  },
  {
   "cell_type": "code",
   "execution_count": 28,
   "id": "35380041-ea98-45dc-9214-fbe69bfc422c",
   "metadata": {},
   "outputs": [
    {
     "data": {
      "text/plain": [
       "array([[[0.89865058, 0.45832145, 0.32514469],\n",
       "        [0.37411927, 0.16790704, 0.48414522]],\n",
       "\n",
       "       [[0.10621291, 0.15444916, 0.55899427],\n",
       "        [0.49191653, 0.67018133, 0.03537769]],\n",
       "\n",
       "       [[0.59987586, 0.46790002, 0.30240251],\n",
       "        [0.97247035, 0.57071615, 0.9133842 ]]])"
      ]
     },
     "execution_count": 28,
     "metadata": {},
     "output_type": "execute_result"
    }
   ],
   "source": [
    "randomArr = np.random.rand(3, 2, 3)\n",
    "randomArr"
   ]
  },
  {
   "cell_type": "code",
   "execution_count": 29,
   "id": "4fec5e22-9f09-41d4-9261-298e13c72be0",
   "metadata": {},
   "outputs": [
    {
     "data": {
      "text/plain": [
       "dtype('float64')"
      ]
     },
     "execution_count": 29,
     "metadata": {},
     "output_type": "execute_result"
    }
   ],
   "source": [
    "randomArr.dtype"
   ]
  },
  {
   "cell_type": "code",
   "execution_count": 32,
   "id": "33848629-0c13-4d8b-ae4c-2cba9a6e7099",
   "metadata": {},
   "outputs": [
    {
     "data": {
      "text/plain": [
       "array([[[0., 0., 0.],\n",
       "        [0., 0., 0.]],\n",
       "\n",
       "       [[0., 0., 0.],\n",
       "        [0., 0., 0.]],\n",
       "\n",
       "       [[0., 0., 0.],\n",
       "        [0., 0., 0.]]])"
      ]
     },
     "execution_count": 32,
     "metadata": {},
     "output_type": "execute_result"
    }
   ],
   "source": [
    "zeros = np.zeros((3, 2, 3))\n",
    "zeros"
   ]
  },
  {
   "cell_type": "code",
   "execution_count": 33,
   "id": "c776662a-8b15-4a8e-b7ab-a5b2163966f9",
   "metadata": {},
   "outputs": [
    {
     "data": {
      "text/plain": [
       "3"
      ]
     },
     "execution_count": 33,
     "metadata": {},
     "output_type": "execute_result"
    }
   ],
   "source": [
    "zeros.ndim"
   ]
  },
  {
   "cell_type": "code",
   "execution_count": 34,
   "id": "1c9e79f1-aba1-4c42-b4f8-75a34bdffc56",
   "metadata": {},
   "outputs": [
    {
     "data": {
      "text/plain": [
       "array([[[9, 9, 9],\n",
       "        [9, 9, 9]],\n",
       "\n",
       "       [[9, 9, 9],\n",
       "        [9, 9, 9]],\n",
       "\n",
       "       [[9, 9, 9],\n",
       "        [9, 9, 9]]])"
      ]
     },
     "execution_count": 34,
     "metadata": {},
     "output_type": "execute_result"
    }
   ],
   "source": [
    "full = np.full((3, 2, 3), 9)\n",
    "full"
   ]
  },
  {
   "cell_type": "code",
   "execution_count": 36,
   "id": "dad658f2-5b24-46b8-97e5-ec5ecd50f2a8",
   "metadata": {},
   "outputs": [
    {
     "data": {
      "text/plain": [
       "array([[[1., 1., 1.],\n",
       "        [1., 1., 1.]],\n",
       "\n",
       "       [[1., 1., 1.],\n",
       "        [1., 1., 1.]],\n",
       "\n",
       "       [[1., 1., 1.],\n",
       "        [1., 1., 1.]]])"
      ]
     },
     "execution_count": 36,
     "metadata": {},
     "output_type": "execute_result"
    }
   ],
   "source": [
    "ones = np.ones((3, 2, 3))\n",
    "ones"
   ]
  },
  {
   "cell_type": "code",
   "execution_count": 37,
   "id": "c6553904-b83c-49a6-a026-a4190cccb2bd",
   "metadata": {},
   "outputs": [
    {
     "data": {
      "text/plain": [
       "array([[[1, 5, 6],\n",
       "        [2, 7, 9]],\n",
       "\n",
       "       [[5, 4, 8],\n",
       "        [7, 2, 3]],\n",
       "\n",
       "       [[0, 4, 3],\n",
       "        [5, 0, 3]]])"
      ]
     },
     "execution_count": 37,
     "metadata": {},
     "output_type": "execute_result"
    }
   ],
   "source": [
    "arr3"
   ]
  },
  {
   "cell_type": "code",
   "execution_count": 38,
   "id": "4f052d6a-a33f-45e7-b5ff-44ea3141beee",
   "metadata": {},
   "outputs": [
    {
     "data": {
      "text/plain": [
       "array([[1, 5, 6],\n",
       "       [2, 7, 9]])"
      ]
     },
     "execution_count": 38,
     "metadata": {},
     "output_type": "execute_result"
    }
   ],
   "source": [
    "arr3[0]"
   ]
  },
  {
   "cell_type": "code",
   "execution_count": 39,
   "id": "abaaf1f9-5a23-4b9f-b55e-4d09a9b34ed1",
   "metadata": {},
   "outputs": [
    {
     "data": {
      "text/plain": [
       "array([1, 5, 6])"
      ]
     },
     "execution_count": 39,
     "metadata": {},
     "output_type": "execute_result"
    }
   ],
   "source": [
    "arr3[0][0]"
   ]
  },
  {
   "cell_type": "code",
   "execution_count": 40,
   "id": "36536d29-4fd8-4510-9812-141d2d63e756",
   "metadata": {},
   "outputs": [
    {
     "data": {
      "text/plain": [
       "array([[[1, 5, 6],\n",
       "        [2, 7, 9]],\n",
       "\n",
       "       [[5, 4, 8],\n",
       "        [7, 2, 3]]])"
      ]
     },
     "execution_count": 40,
     "metadata": {},
     "output_type": "execute_result"
    }
   ],
   "source": [
    "arr3[0:2]"
   ]
  },
  {
   "cell_type": "code",
   "execution_count": 41,
   "id": "e285b4f1-5151-4d0d-8c10-138ba3433944",
   "metadata": {},
   "outputs": [
    {
     "data": {
      "text/plain": [
       "array([[[1, 5, 6],\n",
       "        [2, 7, 9]],\n",
       "\n",
       "       [[5, 4, 8],\n",
       "        [7, 2, 3]],\n",
       "\n",
       "       [[0, 4, 3],\n",
       "        [5, 0, 3]]])"
      ]
     },
     "execution_count": 41,
     "metadata": {},
     "output_type": "execute_result"
    }
   ],
   "source": [
    "arr3[0:3]"
   ]
  },
  {
   "cell_type": "code",
   "execution_count": 43,
   "id": "22db2050-4575-4f2c-b972-b6e71f731ddf",
   "metadata": {},
   "outputs": [
    {
     "data": {
      "text/plain": [
       "array([[[1, 5, 6],\n",
       "        [2, 7, 9]],\n",
       "\n",
       "       [[5, 4, 8],\n",
       "        [7, 2, 3]]])"
      ]
     },
     "execution_count": 43,
     "metadata": {},
     "output_type": "execute_result"
    }
   ],
   "source": [
    "arr3[:-1]"
   ]
  },
  {
   "cell_type": "code",
   "execution_count": 46,
   "id": "acb0f716-fe0a-4ecb-86c6-ccef743255e9",
   "metadata": {},
   "outputs": [
    {
     "data": {
      "text/plain": [
       "4"
      ]
     },
     "execution_count": 46,
     "metadata": {},
     "output_type": "execute_result"
    }
   ],
   "source": [
    "arr3[1, 0, 1]"
   ]
  },
  {
   "cell_type": "markdown",
   "id": "8a66b8fb-67be-4e19-99d6-a82b4ff263dd",
   "metadata": {},
   "source": [
    "### Update & Delete"
   ]
  },
  {
   "cell_type": "code",
   "execution_count": 47,
   "id": "4c1e1313-6647-48f8-b5b3-1abe9e2c62c3",
   "metadata": {},
   "outputs": [],
   "source": [
    "a1 = np.random.rand(2, 3, 2)\n",
    "a2 = np.random.rand(2, 3, 2)"
   ]
  },
  {
   "cell_type": "code",
   "execution_count": 48,
   "id": "86982f0e-fdbf-46b1-b0e7-cca76ea066de",
   "metadata": {},
   "outputs": [
    {
     "data": {
      "text/plain": [
       "array([[[0.0854257 , 0.98236779],\n",
       "        [0.76846731, 0.79451212],\n",
       "        [0.09380726, 0.67016809]],\n",
       "\n",
       "       [[0.56460588, 0.46398105],\n",
       "        [0.07259747, 0.39535103],\n",
       "        [0.62601672, 0.19811497]]])"
      ]
     },
     "execution_count": 48,
     "metadata": {},
     "output_type": "execute_result"
    }
   ],
   "source": [
    "a1"
   ]
  },
  {
   "cell_type": "code",
   "execution_count": 49,
   "id": "20f1e29e-b693-46e3-8042-a5330bdc50fe",
   "metadata": {},
   "outputs": [
    {
     "data": {
      "text/plain": [
       "array([[[0.76864047, 0.2288722 ],\n",
       "        [0.27547079, 0.6078035 ],\n",
       "        [0.12979697, 0.66832151]],\n",
       "\n",
       "       [[0.35141135, 0.7766174 ],\n",
       "        [0.70503144, 0.48049723],\n",
       "        [0.37411196, 0.80538075]]])"
      ]
     },
     "execution_count": 49,
     "metadata": {},
     "output_type": "execute_result"
    }
   ],
   "source": [
    "a2"
   ]
  },
  {
   "cell_type": "markdown",
   "id": "ba3e6c6e-7a3e-4d15-ad37-a463e8fde190",
   "metadata": {},
   "source": [
    "### Basic Math Operations"
   ]
  },
  {
   "cell_type": "code",
   "execution_count": 50,
   "id": "71b9eb96-4ab8-40e5-bb94-39c74232a714",
   "metadata": {},
   "outputs": [
    {
     "data": {
      "text/plain": [
       "array([[[0.85406616, 1.21123998],\n",
       "        [1.0439381 , 1.40231562],\n",
       "        [0.22360422, 1.3384896 ]],\n",
       "\n",
       "       [[0.91601723, 1.24059845],\n",
       "        [0.7776289 , 0.87584826],\n",
       "        [1.00012868, 1.00349572]]])"
      ]
     },
     "execution_count": 50,
     "metadata": {},
     "output_type": "execute_result"
    }
   ],
   "source": [
    "np.add(a1, a2)"
   ]
  },
  {
   "cell_type": "code",
   "execution_count": 51,
   "id": "906393d6-a152-4923-91bd-0afc98258340",
   "metadata": {},
   "outputs": [
    {
     "data": {
      "text/plain": [
       "array([[[-0.68321477,  0.75349559],\n",
       "        [ 0.49299651,  0.18670862],\n",
       "        [-0.03598971,  0.00184659]],\n",
       "\n",
       "       [[ 0.21319454, -0.31263634],\n",
       "        [-0.63243397, -0.0851462 ],\n",
       "        [ 0.25190476, -0.60726579]]])"
      ]
     },
     "execution_count": 51,
     "metadata": {},
     "output_type": "execute_result"
    }
   ],
   "source": [
    "np.subtract(a1, a2)"
   ]
  },
  {
   "cell_type": "code",
   "execution_count": 52,
   "id": "af07f7b4-755b-489f-a067-0ae5f4e1ffaa",
   "metadata": {},
   "outputs": [
    {
     "data": {
      "text/plain": [
       "array([[[0.11113869, 4.29221112],\n",
       "        [2.78965076, 1.30718582],\n",
       "        [0.72272303, 1.00276302]],\n",
       "\n",
       "       [[1.60668086, 0.5974384 ],\n",
       "        [0.10297054, 0.82279564],\n",
       "        [1.67334058, 0.2459892 ]]])"
      ]
     },
     "execution_count": 52,
     "metadata": {},
     "output_type": "execute_result"
    }
   ],
   "source": [
    "np.divide(a1, a2)"
   ]
  },
  {
   "cell_type": "markdown",
   "id": "158908c9-97b5-4382-80ed-3be921e6f60f",
   "metadata": {},
   "source": [
    "### Statistical operations"
   ]
  },
  {
   "cell_type": "code",
   "execution_count": 53,
   "id": "f8f1b941-20a3-4510-b682-3ef2d8f15c0d",
   "metadata": {},
   "outputs": [],
   "source": [
    "sqrt_value = np.sqrt(25)\n",
    "abs_value = np.abs(-2)\n",
    "power = np.power(2, 8)\n",
    "log = np.log(25)\n",
    "mins = np.min(a1)\n",
    "maxs = np.max(a2)"
   ]
  },
  {
   "cell_type": "code",
   "execution_count": 54,
   "id": "74b93a17-e4f6-4001-883a-6709190a827c",
   "metadata": {},
   "outputs": [
    {
     "data": {
      "text/plain": [
       "array([[[1, 5, 6],\n",
       "        [2, 7, 9]],\n",
       "\n",
       "       [[5, 4, 8],\n",
       "        [7, 2, 3]],\n",
       "\n",
       "       [[0, 4, 3],\n",
       "        [5, 0, 3]]])"
      ]
     },
     "execution_count": 54,
     "metadata": {},
     "output_type": "execute_result"
    }
   ],
   "source": [
    "arr3"
   ]
  },
  {
   "cell_type": "code",
   "execution_count": 55,
   "id": "d4f14b5b-e8b8-4650-b13a-b53731fa6138",
   "metadata": {},
   "outputs": [
    {
     "data": {
      "text/plain": [
       "array([[[  1,   5, 500],\n",
       "        [  2,   7,   9]],\n",
       "\n",
       "       [[  5,   4,   8],\n",
       "        [  7,   2,   3]],\n",
       "\n",
       "       [[  0,   4,   3],\n",
       "        [  5,   0,   3]]])"
      ]
     },
     "execution_count": 55,
     "metadata": {},
     "output_type": "execute_result"
    }
   ],
   "source": [
    "arr3[0, 0, 2] = 500\n",
    "arr3"
   ]
  },
  {
   "cell_type": "code",
   "execution_count": 56,
   "id": "5a4ad36d-87d6-4a23-96bb-bdef4d96a4a6",
   "metadata": {},
   "outputs": [
    {
     "data": {
      "text/plain": [
       "array([[[  1,   5, 500],\n",
       "        [  2,   7,   9]],\n",
       "\n",
       "       [[  5,   4,   8],\n",
       "        [  7,   2,   3]],\n",
       "\n",
       "       [[  0,   4,   3],\n",
       "        [  5,   0,   3]]])"
      ]
     },
     "execution_count": 56,
     "metadata": {},
     "output_type": "execute_result"
    }
   ],
   "source": [
    "arr3.sort\n",
    "arr3"
   ]
  },
  {
   "cell_type": "code",
   "execution_count": 57,
   "id": "84b9af63-c0b3-4abb-bd86-713b1b14f9a6",
   "metadata": {},
   "outputs": [
    {
     "data": {
      "text/plain": [
       "(3, 2, 3)"
      ]
     },
     "execution_count": 57,
     "metadata": {},
     "output_type": "execute_result"
    }
   ],
   "source": [
    "# Reshape\n",
    "arr3.shape"
   ]
  },
  {
   "cell_type": "code",
   "execution_count": 59,
   "id": "042dc0bf-575b-4bd9-b02f-e13dafa79e18",
   "metadata": {},
   "outputs": [
    {
     "data": {
      "text/plain": [
       "array([[[  1,   5, 500],\n",
       "        [  2,   7,   9],\n",
       "        [  5,   4,   8]],\n",
       "\n",
       "       [[  7,   2,   3],\n",
       "        [  0,   4,   3],\n",
       "        [  5,   0,   3]]])"
      ]
     },
     "execution_count": 59,
     "metadata": {},
     "output_type": "execute_result"
    }
   ],
   "source": [
    "arr3_reshape = arr3.reshape([2, 3, 3])\n",
    "arr3_reshape"
   ]
  },
  {
   "cell_type": "markdown",
   "id": "629c16e0-98a7-4bb8-ae7f-c361f6846a08",
   "metadata": {},
   "source": [
    "#### Appending & Inserting"
   ]
  },
  {
   "cell_type": "code",
   "execution_count": 60,
   "id": "86a9ce69-23c2-49ef-af31-f54eecf70d4e",
   "metadata": {},
   "outputs": [
    {
     "data": {
      "text/plain": [
       "array([[[0., 0., 0.],\n",
       "        [0., 0., 0.]],\n",
       "\n",
       "       [[0., 0., 0.],\n",
       "        [0., 0., 0.]],\n",
       "\n",
       "       [[0., 0., 0.],\n",
       "        [0., 0., 0.]]])"
      ]
     },
     "execution_count": 60,
     "metadata": {},
     "output_type": "execute_result"
    }
   ],
   "source": [
    "zeros"
   ]
  },
  {
   "cell_type": "code",
   "execution_count": 61,
   "id": "f4ea1efa-1ccc-497d-a269-2d6b35ae16b8",
   "metadata": {},
   "outputs": [
    {
     "data": {
      "text/plain": [
       "array([[[1., 1., 1.],\n",
       "        [1., 1., 1.]],\n",
       "\n",
       "       [[1., 1., 1.],\n",
       "        [1., 1., 1.]],\n",
       "\n",
       "       [[1., 1., 1.],\n",
       "        [1., 1., 1.]]])"
      ]
     },
     "execution_count": 61,
     "metadata": {},
     "output_type": "execute_result"
    }
   ],
   "source": [
    "# Create a new array\n",
    "new_array = np.ones((3, 2, 3))\n",
    "new_array"
   ]
  },
  {
   "cell_type": "code",
   "execution_count": 62,
   "id": "6b02d28a-99c1-4f8a-af27-68a60e6c446a",
   "metadata": {},
   "outputs": [
    {
     "data": {
      "text/plain": [
       "array([[[0., 0., 0.],\n",
       "        [0., 0., 0.]],\n",
       "\n",
       "       [[0., 0., 0.],\n",
       "        [0., 0., 0.]],\n",
       "\n",
       "       [[0., 0., 0.],\n",
       "        [0., 0., 0.]],\n",
       "\n",
       "       [[1., 1., 1.],\n",
       "        [1., 1., 1.]],\n",
       "\n",
       "       [[1., 1., 1.],\n",
       "        [1., 1., 1.]],\n",
       "\n",
       "       [[1., 1., 1.],\n",
       "        [1., 1., 1.]]])"
      ]
     },
     "execution_count": 62,
     "metadata": {},
     "output_type": "execute_result"
    }
   ],
   "source": [
    "appd = np.append(zeros, new_array, axis=0)\n",
    "appd"
   ]
  },
  {
   "cell_type": "code",
   "execution_count": 64,
   "id": "6e339b55-775a-4897-8612-8b3d4ed8e1e2",
   "metadata": {},
   "outputs": [
    {
     "data": {
      "text/plain": [
       "array([[[0., 0., 0.],\n",
       "        [0., 0., 0.]],\n",
       "\n",
       "       [[0., 0., 0.],\n",
       "        [0., 0., 0.]],\n",
       "\n",
       "       [[0., 0., 0.],\n",
       "        [0., 0., 0.]]])"
      ]
     },
     "execution_count": 64,
     "metadata": {},
     "output_type": "execute_result"
    }
   ],
   "source": [
    "zeros"
   ]
  },
  {
   "cell_type": "code",
   "execution_count": 65,
   "id": "3aa03d87-589a-4fce-a171-c14a4d5cfb41",
   "metadata": {},
   "outputs": [
    {
     "data": {
      "text/plain": [
       "array([[[1., 1., 1.],\n",
       "        [1., 1., 1.]],\n",
       "\n",
       "       [[1., 1., 1.],\n",
       "        [1., 1., 1.]],\n",
       "\n",
       "       [[1., 1., 1.],\n",
       "        [1., 1., 1.]]])"
      ]
     },
     "execution_count": 65,
     "metadata": {},
     "output_type": "execute_result"
    }
   ],
   "source": [
    "new_array"
   ]
  },
  {
   "cell_type": "code",
   "execution_count": 66,
   "id": "0651e593-5e67-492b-892d-b1e67b2b7d84",
   "metadata": {},
   "outputs": [
    {
     "data": {
      "text/plain": [
       "array([[[0., 0., 0.],\n",
       "        [0., 0., 0.]],\n",
       "\n",
       "       [[0., 0., 0.],\n",
       "        [0., 0., 0.]],\n",
       "\n",
       "       [[1., 1., 1.],\n",
       "        [1., 1., 1.]],\n",
       "\n",
       "       [[1., 1., 1.],\n",
       "        [1., 1., 1.]],\n",
       "\n",
       "       [[1., 1., 1.],\n",
       "        [1., 1., 1.]],\n",
       "\n",
       "       [[0., 0., 0.],\n",
       "        [0., 0., 0.]]])"
      ]
     },
     "execution_count": 66,
     "metadata": {},
     "output_type": "execute_result"
    }
   ],
   "source": [
    "inserted_array = np.insert(zeros, 2, new_array, axis=0)\n",
    "inserted_array"
   ]
  },
  {
   "cell_type": "markdown",
   "id": "db954536-690e-49af-b9ce-6054aca13d36",
   "metadata": {},
   "source": [
    "#### Delete "
   ]
  },
  {
   "cell_type": "code",
   "execution_count": 67,
   "id": "5c3ff19e-b3b5-4f40-911c-43e7d7da649f",
   "metadata": {},
   "outputs": [
    {
     "data": {
      "text/plain": [
       "array([[[0.70595909, 0.17168269, 0.04672232],\n",
       "        [0.70723418, 0.55272702, 0.18686179]],\n",
       "\n",
       "       [[0.06363449, 0.69231787, 0.43014185],\n",
       "        [0.90440883, 0.27860885, 0.43602633]],\n",
       "\n",
       "       [[0.62610959, 0.05042095, 0.31711774],\n",
       "        [0.49460443, 0.79223644, 0.06624559]]])"
      ]
     },
     "execution_count": 67,
     "metadata": {},
     "output_type": "execute_result"
    }
   ],
   "source": [
    "arr4 = np.random.rand(3, 2, 3)\n",
    "arr4"
   ]
  },
  {
   "cell_type": "code",
   "execution_count": 72,
   "id": "4b9f6b37-80c5-4ae1-9fa7-564381a39300",
   "metadata": {},
   "outputs": [
    {
     "data": {
      "text/plain": [
       "array([[[0.70723418, 0.55272702, 0.18686179]],\n",
       "\n",
       "       [[0.90440883, 0.27860885, 0.43602633]],\n",
       "\n",
       "       [[0.49460443, 0.79223644, 0.06624559]]])"
      ]
     },
     "execution_count": 72,
     "metadata": {},
     "output_type": "execute_result"
    }
   ],
   "source": [
    "# Delete the array\n",
    "arr5 = np.delete(arr4, 0, axis=1)\n",
    "arr5"
   ]
  },
  {
   "cell_type": "code",
   "execution_count": 73,
   "id": "8f391e91-ae01-4ed2-8dc0-0d6e8cfdb694",
   "metadata": {},
   "outputs": [],
   "source": [
    "np.save(\"new_array\", arr5)"
   ]
  },
  {
   "cell_type": "code",
   "execution_count": 75,
   "id": "9a0a30c9-22f0-4860-b55e-2017aa4a5ecf",
   "metadata": {},
   "outputs": [
    {
     "data": {
      "text/plain": [
       "array([[[0.70723418, 0.55272702, 0.18686179]],\n",
       "\n",
       "       [[0.90440883, 0.27860885, 0.43602633]],\n",
       "\n",
       "       [[0.49460443, 0.79223644, 0.06624559]]])"
      ]
     },
     "execution_count": 75,
     "metadata": {},
     "output_type": "execute_result"
    }
   ],
   "source": [
    "np.load(\"new_array.npy\")"
   ]
  },
  {
   "cell_type": "code",
   "execution_count": null,
   "id": "93366ed8-006f-4427-a090-b444ca4e404b",
   "metadata": {},
   "outputs": [],
   "source": []
  }
 ],
 "metadata": {
  "kernelspec": {
   "display_name": "Python 3 (ipykernel)",
   "language": "python",
   "name": "python3"
  },
  "language_info": {
   "codemirror_mode": {
    "name": "ipython",
    "version": 3
   },
   "file_extension": ".py",
   "mimetype": "text/x-python",
   "name": "python",
   "nbconvert_exporter": "python",
   "pygments_lexer": "ipython3",
   "version": "3.12.7"
  }
 },
 "nbformat": 4,
 "nbformat_minor": 5
}
