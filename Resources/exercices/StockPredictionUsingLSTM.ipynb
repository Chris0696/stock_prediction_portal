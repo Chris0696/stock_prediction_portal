{
 "cells": [
  {
   "cell_type": "code",
   "execution_count": 3,
   "id": "330bb273-0009-4c4f-bcd3-7ed2b3877521",
   "metadata": {},
   "outputs": [],
   "source": [
    "import matplotlib.pyplot as plt\n",
    "import pandas as pd\n",
    "import numpy as np\n",
    "import yfinance as yf\n",
    "from datetime import datetime"
   ]
  },
  {
   "cell_type": "code",
   "execution_count": null,
   "id": "123eaece-3c48-4889-8309-cbf2f9452b06",
   "metadata": {},
   "outputs": [],
   "source": []
  },
  {
   "cell_type": "markdown",
   "id": "3b430664-e2b1-401f-832a-6666f5933cd9",
   "metadata": {},
   "source": [
    "# 1. Data Collection"
   ]
  },
  {
   "cell_type": "code",
   "execution_count": 4,
   "id": "c46ec7fc-02c0-4fb6-8c2e-07412304a659",
   "metadata": {},
   "outputs": [
    {
     "name": "stderr",
     "output_type": "stream",
     "text": [
      "[*********************100%***********************]  1 of 1 completed\n"
     ]
    },
    {
     "data": {
      "text/html": [
       "<div>\n",
       "<style scoped>\n",
       "    .dataframe tbody tr th:only-of-type {\n",
       "        vertical-align: middle;\n",
       "    }\n",
       "\n",
       "    .dataframe tbody tr th {\n",
       "        vertical-align: top;\n",
       "    }\n",
       "\n",
       "    .dataframe thead th {\n",
       "        text-align: right;\n",
       "    }\n",
       "</style>\n",
       "<table border=\"1\" class=\"dataframe\">\n",
       "  <thead>\n",
       "    <tr style=\"text-align: right;\">\n",
       "      <th></th>\n",
       "      <th>Open</th>\n",
       "      <th>High</th>\n",
       "      <th>Low</th>\n",
       "      <th>Close</th>\n",
       "      <th>Adj Close</th>\n",
       "      <th>Volume</th>\n",
       "    </tr>\n",
       "    <tr>\n",
       "      <th>Date</th>\n",
       "      <th></th>\n",
       "      <th></th>\n",
       "      <th></th>\n",
       "      <th></th>\n",
       "      <th></th>\n",
       "      <th></th>\n",
       "    </tr>\n",
       "  </thead>\n",
       "  <tbody>\n",
       "    <tr>\n",
       "      <th>2014-10-13</th>\n",
       "      <td>25.332500</td>\n",
       "      <td>25.445000</td>\n",
       "      <td>24.952499</td>\n",
       "      <td>24.952499</td>\n",
       "      <td>22.155502</td>\n",
       "      <td>214333600</td>\n",
       "    </tr>\n",
       "    <tr>\n",
       "      <th>2014-10-14</th>\n",
       "      <td>25.097500</td>\n",
       "      <td>25.129999</td>\n",
       "      <td>24.642500</td>\n",
       "      <td>24.687500</td>\n",
       "      <td>21.920204</td>\n",
       "      <td>254754400</td>\n",
       "    </tr>\n",
       "    <tr>\n",
       "      <th>2014-10-15</th>\n",
       "      <td>24.492500</td>\n",
       "      <td>24.787500</td>\n",
       "      <td>23.795000</td>\n",
       "      <td>24.385000</td>\n",
       "      <td>21.651623</td>\n",
       "      <td>403734400</td>\n",
       "    </tr>\n",
       "    <tr>\n",
       "      <th>2014-10-16</th>\n",
       "      <td>23.887501</td>\n",
       "      <td>24.430000</td>\n",
       "      <td>23.852501</td>\n",
       "      <td>24.065001</td>\n",
       "      <td>21.367487</td>\n",
       "      <td>288618000</td>\n",
       "    </tr>\n",
       "    <tr>\n",
       "      <th>2014-10-17</th>\n",
       "      <td>24.375000</td>\n",
       "      <td>24.750000</td>\n",
       "      <td>24.202499</td>\n",
       "      <td>24.417500</td>\n",
       "      <td>21.680471</td>\n",
       "      <td>272718800</td>\n",
       "    </tr>\n",
       "    <tr>\n",
       "      <th>...</th>\n",
       "      <td>...</td>\n",
       "      <td>...</td>\n",
       "      <td>...</td>\n",
       "      <td>...</td>\n",
       "      <td>...</td>\n",
       "      <td>...</td>\n",
       "    </tr>\n",
       "    <tr>\n",
       "      <th>2024-10-07</th>\n",
       "      <td>224.500000</td>\n",
       "      <td>225.690002</td>\n",
       "      <td>221.330002</td>\n",
       "      <td>221.690002</td>\n",
       "      <td>221.690002</td>\n",
       "      <td>39505400</td>\n",
       "    </tr>\n",
       "    <tr>\n",
       "      <th>2024-10-08</th>\n",
       "      <td>224.300003</td>\n",
       "      <td>225.979996</td>\n",
       "      <td>223.250000</td>\n",
       "      <td>225.770004</td>\n",
       "      <td>225.770004</td>\n",
       "      <td>31855700</td>\n",
       "    </tr>\n",
       "    <tr>\n",
       "      <th>2024-10-09</th>\n",
       "      <td>225.229996</td>\n",
       "      <td>229.750000</td>\n",
       "      <td>224.830002</td>\n",
       "      <td>229.539993</td>\n",
       "      <td>229.539993</td>\n",
       "      <td>33591100</td>\n",
       "    </tr>\n",
       "    <tr>\n",
       "      <th>2024-10-10</th>\n",
       "      <td>227.779999</td>\n",
       "      <td>229.500000</td>\n",
       "      <td>227.169998</td>\n",
       "      <td>229.039993</td>\n",
       "      <td>229.039993</td>\n",
       "      <td>28183500</td>\n",
       "    </tr>\n",
       "    <tr>\n",
       "      <th>2024-10-11</th>\n",
       "      <td>229.300003</td>\n",
       "      <td>229.410004</td>\n",
       "      <td>227.339996</td>\n",
       "      <td>227.550003</td>\n",
       "      <td>227.550003</td>\n",
       "      <td>31668000</td>\n",
       "    </tr>\n",
       "  </tbody>\n",
       "</table>\n",
       "<p>2517 rows × 6 columns</p>\n",
       "</div>"
      ],
      "text/plain": [
       "                  Open        High         Low       Close   Adj Close  \\\n",
       "Date                                                                     \n",
       "2014-10-13   25.332500   25.445000   24.952499   24.952499   22.155502   \n",
       "2014-10-14   25.097500   25.129999   24.642500   24.687500   21.920204   \n",
       "2014-10-15   24.492500   24.787500   23.795000   24.385000   21.651623   \n",
       "2014-10-16   23.887501   24.430000   23.852501   24.065001   21.367487   \n",
       "2014-10-17   24.375000   24.750000   24.202499   24.417500   21.680471   \n",
       "...                ...         ...         ...         ...         ...   \n",
       "2024-10-07  224.500000  225.690002  221.330002  221.690002  221.690002   \n",
       "2024-10-08  224.300003  225.979996  223.250000  225.770004  225.770004   \n",
       "2024-10-09  225.229996  229.750000  224.830002  229.539993  229.539993   \n",
       "2024-10-10  227.779999  229.500000  227.169998  229.039993  229.039993   \n",
       "2024-10-11  229.300003  229.410004  227.339996  227.550003  227.550003   \n",
       "\n",
       "               Volume  \n",
       "Date                   \n",
       "2014-10-13  214333600  \n",
       "2014-10-14  254754400  \n",
       "2014-10-15  403734400  \n",
       "2014-10-16  288618000  \n",
       "2014-10-17  272718800  \n",
       "...               ...  \n",
       "2024-10-07   39505400  \n",
       "2024-10-08   31855700  \n",
       "2024-10-09   33591100  \n",
       "2024-10-10   28183500  \n",
       "2024-10-11   31668000  \n",
       "\n",
       "[2517 rows x 6 columns]"
      ]
     },
     "execution_count": 4,
     "metadata": {},
     "output_type": "execute_result"
    }
   ],
   "source": [
    "now = datetime.now()\n",
    "\n",
    "start = datetime(now.year-10, now.month, now.day)\n",
    "end = now\n",
    "ticker = 'AAPL'\n",
    "df = yf.download(ticker, start, end)\n",
    "df"
   ]
  },
  {
   "cell_type": "code",
   "execution_count": 5,
   "id": "1ad1babb-9fb8-40ae-b0fe-bbabe91d70ac",
   "metadata": {},
   "outputs": [
    {
     "data": {
      "text/html": [
       "<div>\n",
       "<style scoped>\n",
       "    .dataframe tbody tr th:only-of-type {\n",
       "        vertical-align: middle;\n",
       "    }\n",
       "\n",
       "    .dataframe tbody tr th {\n",
       "        vertical-align: top;\n",
       "    }\n",
       "\n",
       "    .dataframe thead th {\n",
       "        text-align: right;\n",
       "    }\n",
       "</style>\n",
       "<table border=\"1\" class=\"dataframe\">\n",
       "  <thead>\n",
       "    <tr style=\"text-align: right;\">\n",
       "      <th></th>\n",
       "      <th>Open</th>\n",
       "      <th>High</th>\n",
       "      <th>Low</th>\n",
       "      <th>Close</th>\n",
       "      <th>Adj Close</th>\n",
       "      <th>Volume</th>\n",
       "    </tr>\n",
       "    <tr>\n",
       "      <th>Date</th>\n",
       "      <th></th>\n",
       "      <th></th>\n",
       "      <th></th>\n",
       "      <th></th>\n",
       "      <th></th>\n",
       "      <th></th>\n",
       "    </tr>\n",
       "  </thead>\n",
       "  <tbody>\n",
       "    <tr>\n",
       "      <th>2014-10-13</th>\n",
       "      <td>25.332500</td>\n",
       "      <td>25.445000</td>\n",
       "      <td>24.952499</td>\n",
       "      <td>24.952499</td>\n",
       "      <td>22.155502</td>\n",
       "      <td>214333600</td>\n",
       "    </tr>\n",
       "    <tr>\n",
       "      <th>2014-10-14</th>\n",
       "      <td>25.097500</td>\n",
       "      <td>25.129999</td>\n",
       "      <td>24.642500</td>\n",
       "      <td>24.687500</td>\n",
       "      <td>21.920204</td>\n",
       "      <td>254754400</td>\n",
       "    </tr>\n",
       "    <tr>\n",
       "      <th>2014-10-15</th>\n",
       "      <td>24.492500</td>\n",
       "      <td>24.787500</td>\n",
       "      <td>23.795000</td>\n",
       "      <td>24.385000</td>\n",
       "      <td>21.651623</td>\n",
       "      <td>403734400</td>\n",
       "    </tr>\n",
       "    <tr>\n",
       "      <th>2014-10-16</th>\n",
       "      <td>23.887501</td>\n",
       "      <td>24.430000</td>\n",
       "      <td>23.852501</td>\n",
       "      <td>24.065001</td>\n",
       "      <td>21.367487</td>\n",
       "      <td>288618000</td>\n",
       "    </tr>\n",
       "    <tr>\n",
       "      <th>2014-10-17</th>\n",
       "      <td>24.375000</td>\n",
       "      <td>24.750000</td>\n",
       "      <td>24.202499</td>\n",
       "      <td>24.417500</td>\n",
       "      <td>21.680471</td>\n",
       "      <td>272718800</td>\n",
       "    </tr>\n",
       "  </tbody>\n",
       "</table>\n",
       "</div>"
      ],
      "text/plain": [
       "                 Open       High        Low      Close  Adj Close     Volume\n",
       "Date                                                                        \n",
       "2014-10-13  25.332500  25.445000  24.952499  24.952499  22.155502  214333600\n",
       "2014-10-14  25.097500  25.129999  24.642500  24.687500  21.920204  254754400\n",
       "2014-10-15  24.492500  24.787500  23.795000  24.385000  21.651623  403734400\n",
       "2014-10-16  23.887501  24.430000  23.852501  24.065001  21.367487  288618000\n",
       "2014-10-17  24.375000  24.750000  24.202499  24.417500  21.680471  272718800"
      ]
     },
     "execution_count": 5,
     "metadata": {},
     "output_type": "execute_result"
    }
   ],
   "source": [
    "df.head()"
   ]
  },
  {
   "cell_type": "code",
   "execution_count": 6,
   "id": "35eb5a44-7b38-4d2a-9911-303bd6eba98e",
   "metadata": {},
   "outputs": [
    {
     "data": {
      "text/html": [
       "<div>\n",
       "<style scoped>\n",
       "    .dataframe tbody tr th:only-of-type {\n",
       "        vertical-align: middle;\n",
       "    }\n",
       "\n",
       "    .dataframe tbody tr th {\n",
       "        vertical-align: top;\n",
       "    }\n",
       "\n",
       "    .dataframe thead th {\n",
       "        text-align: right;\n",
       "    }\n",
       "</style>\n",
       "<table border=\"1\" class=\"dataframe\">\n",
       "  <thead>\n",
       "    <tr style=\"text-align: right;\">\n",
       "      <th></th>\n",
       "      <th>Open</th>\n",
       "      <th>High</th>\n",
       "      <th>Low</th>\n",
       "      <th>Close</th>\n",
       "      <th>Adj Close</th>\n",
       "      <th>Volume</th>\n",
       "    </tr>\n",
       "    <tr>\n",
       "      <th>Date</th>\n",
       "      <th></th>\n",
       "      <th></th>\n",
       "      <th></th>\n",
       "      <th></th>\n",
       "      <th></th>\n",
       "      <th></th>\n",
       "    </tr>\n",
       "  </thead>\n",
       "  <tbody>\n",
       "    <tr>\n",
       "      <th>2024-10-07</th>\n",
       "      <td>224.500000</td>\n",
       "      <td>225.690002</td>\n",
       "      <td>221.330002</td>\n",
       "      <td>221.690002</td>\n",
       "      <td>221.690002</td>\n",
       "      <td>39505400</td>\n",
       "    </tr>\n",
       "    <tr>\n",
       "      <th>2024-10-08</th>\n",
       "      <td>224.300003</td>\n",
       "      <td>225.979996</td>\n",
       "      <td>223.250000</td>\n",
       "      <td>225.770004</td>\n",
       "      <td>225.770004</td>\n",
       "      <td>31855700</td>\n",
       "    </tr>\n",
       "    <tr>\n",
       "      <th>2024-10-09</th>\n",
       "      <td>225.229996</td>\n",
       "      <td>229.750000</td>\n",
       "      <td>224.830002</td>\n",
       "      <td>229.539993</td>\n",
       "      <td>229.539993</td>\n",
       "      <td>33591100</td>\n",
       "    </tr>\n",
       "    <tr>\n",
       "      <th>2024-10-10</th>\n",
       "      <td>227.779999</td>\n",
       "      <td>229.500000</td>\n",
       "      <td>227.169998</td>\n",
       "      <td>229.039993</td>\n",
       "      <td>229.039993</td>\n",
       "      <td>28183500</td>\n",
       "    </tr>\n",
       "    <tr>\n",
       "      <th>2024-10-11</th>\n",
       "      <td>229.300003</td>\n",
       "      <td>229.410004</td>\n",
       "      <td>227.339996</td>\n",
       "      <td>227.550003</td>\n",
       "      <td>227.550003</td>\n",
       "      <td>31668000</td>\n",
       "    </tr>\n",
       "  </tbody>\n",
       "</table>\n",
       "</div>"
      ],
      "text/plain": [
       "                  Open        High         Low       Close   Adj Close  \\\n",
       "Date                                                                     \n",
       "2024-10-07  224.500000  225.690002  221.330002  221.690002  221.690002   \n",
       "2024-10-08  224.300003  225.979996  223.250000  225.770004  225.770004   \n",
       "2024-10-09  225.229996  229.750000  224.830002  229.539993  229.539993   \n",
       "2024-10-10  227.779999  229.500000  227.169998  229.039993  229.039993   \n",
       "2024-10-11  229.300003  229.410004  227.339996  227.550003  227.550003   \n",
       "\n",
       "              Volume  \n",
       "Date                  \n",
       "2024-10-07  39505400  \n",
       "2024-10-08  31855700  \n",
       "2024-10-09  33591100  \n",
       "2024-10-10  28183500  \n",
       "2024-10-11  31668000  "
      ]
     },
     "execution_count": 6,
     "metadata": {},
     "output_type": "execute_result"
    }
   ],
   "source": [
    "df.tail()"
   ]
  },
  {
   "cell_type": "code",
   "execution_count": null,
   "id": "2d59e6a4-8b25-423b-bd3d-126b0d88f068",
   "metadata": {},
   "outputs": [],
   "source": []
  },
  {
   "cell_type": "markdown",
   "id": "1c44e28e-1099-4550-917e-393543636347",
   "metadata": {},
   "source": [
    "# 2. Data Exploration & Visualization"
   ]
  },
  {
   "cell_type": "code",
   "execution_count": 7,
   "id": "3799df71-1409-4e61-ae7b-4f61080706b3",
   "metadata": {},
   "outputs": [
    {
     "data": {
      "text/html": [
       "<div>\n",
       "<style scoped>\n",
       "    .dataframe tbody tr th:only-of-type {\n",
       "        vertical-align: middle;\n",
       "    }\n",
       "\n",
       "    .dataframe tbody tr th {\n",
       "        vertical-align: top;\n",
       "    }\n",
       "\n",
       "    .dataframe thead th {\n",
       "        text-align: right;\n",
       "    }\n",
       "</style>\n",
       "<table border=\"1\" class=\"dataframe\">\n",
       "  <thead>\n",
       "    <tr style=\"text-align: right;\">\n",
       "      <th></th>\n",
       "      <th>Open</th>\n",
       "      <th>High</th>\n",
       "      <th>Low</th>\n",
       "      <th>Close</th>\n",
       "      <th>Adj Close</th>\n",
       "      <th>Volume</th>\n",
       "    </tr>\n",
       "    <tr>\n",
       "      <th>Date</th>\n",
       "      <th></th>\n",
       "      <th></th>\n",
       "      <th></th>\n",
       "      <th></th>\n",
       "      <th></th>\n",
       "      <th></th>\n",
       "    </tr>\n",
       "  </thead>\n",
       "  <tbody>\n",
       "    <tr>\n",
       "      <th>2014-10-13</th>\n",
       "      <td>25.332500</td>\n",
       "      <td>25.445000</td>\n",
       "      <td>24.952499</td>\n",
       "      <td>24.952499</td>\n",
       "      <td>22.155502</td>\n",
       "      <td>214333600</td>\n",
       "    </tr>\n",
       "    <tr>\n",
       "      <th>2014-10-14</th>\n",
       "      <td>25.097500</td>\n",
       "      <td>25.129999</td>\n",
       "      <td>24.642500</td>\n",
       "      <td>24.687500</td>\n",
       "      <td>21.920204</td>\n",
       "      <td>254754400</td>\n",
       "    </tr>\n",
       "    <tr>\n",
       "      <th>2014-10-15</th>\n",
       "      <td>24.492500</td>\n",
       "      <td>24.787500</td>\n",
       "      <td>23.795000</td>\n",
       "      <td>24.385000</td>\n",
       "      <td>21.651623</td>\n",
       "      <td>403734400</td>\n",
       "    </tr>\n",
       "    <tr>\n",
       "      <th>2014-10-16</th>\n",
       "      <td>23.887501</td>\n",
       "      <td>24.430000</td>\n",
       "      <td>23.852501</td>\n",
       "      <td>24.065001</td>\n",
       "      <td>21.367487</td>\n",
       "      <td>288618000</td>\n",
       "    </tr>\n",
       "    <tr>\n",
       "      <th>2014-10-17</th>\n",
       "      <td>24.375000</td>\n",
       "      <td>24.750000</td>\n",
       "      <td>24.202499</td>\n",
       "      <td>24.417500</td>\n",
       "      <td>21.680471</td>\n",
       "      <td>272718800</td>\n",
       "    </tr>\n",
       "    <tr>\n",
       "      <th>...</th>\n",
       "      <td>...</td>\n",
       "      <td>...</td>\n",
       "      <td>...</td>\n",
       "      <td>...</td>\n",
       "      <td>...</td>\n",
       "      <td>...</td>\n",
       "    </tr>\n",
       "    <tr>\n",
       "      <th>2024-10-07</th>\n",
       "      <td>224.500000</td>\n",
       "      <td>225.690002</td>\n",
       "      <td>221.330002</td>\n",
       "      <td>221.690002</td>\n",
       "      <td>221.690002</td>\n",
       "      <td>39505400</td>\n",
       "    </tr>\n",
       "    <tr>\n",
       "      <th>2024-10-08</th>\n",
       "      <td>224.300003</td>\n",
       "      <td>225.979996</td>\n",
       "      <td>223.250000</td>\n",
       "      <td>225.770004</td>\n",
       "      <td>225.770004</td>\n",
       "      <td>31855700</td>\n",
       "    </tr>\n",
       "    <tr>\n",
       "      <th>2024-10-09</th>\n",
       "      <td>225.229996</td>\n",
       "      <td>229.750000</td>\n",
       "      <td>224.830002</td>\n",
       "      <td>229.539993</td>\n",
       "      <td>229.539993</td>\n",
       "      <td>33591100</td>\n",
       "    </tr>\n",
       "    <tr>\n",
       "      <th>2024-10-10</th>\n",
       "      <td>227.779999</td>\n",
       "      <td>229.500000</td>\n",
       "      <td>227.169998</td>\n",
       "      <td>229.039993</td>\n",
       "      <td>229.039993</td>\n",
       "      <td>28183500</td>\n",
       "    </tr>\n",
       "    <tr>\n",
       "      <th>2024-10-11</th>\n",
       "      <td>229.300003</td>\n",
       "      <td>229.410004</td>\n",
       "      <td>227.339996</td>\n",
       "      <td>227.550003</td>\n",
       "      <td>227.550003</td>\n",
       "      <td>31668000</td>\n",
       "    </tr>\n",
       "  </tbody>\n",
       "</table>\n",
       "<p>2517 rows × 6 columns</p>\n",
       "</div>"
      ],
      "text/plain": [
       "                  Open        High         Low       Close   Adj Close  \\\n",
       "Date                                                                     \n",
       "2014-10-13   25.332500   25.445000   24.952499   24.952499   22.155502   \n",
       "2014-10-14   25.097500   25.129999   24.642500   24.687500   21.920204   \n",
       "2014-10-15   24.492500   24.787500   23.795000   24.385000   21.651623   \n",
       "2014-10-16   23.887501   24.430000   23.852501   24.065001   21.367487   \n",
       "2014-10-17   24.375000   24.750000   24.202499   24.417500   21.680471   \n",
       "...                ...         ...         ...         ...         ...   \n",
       "2024-10-07  224.500000  225.690002  221.330002  221.690002  221.690002   \n",
       "2024-10-08  224.300003  225.979996  223.250000  225.770004  225.770004   \n",
       "2024-10-09  225.229996  229.750000  224.830002  229.539993  229.539993   \n",
       "2024-10-10  227.779999  229.500000  227.169998  229.039993  229.039993   \n",
       "2024-10-11  229.300003  229.410004  227.339996  227.550003  227.550003   \n",
       "\n",
       "               Volume  \n",
       "Date                   \n",
       "2014-10-13  214333600  \n",
       "2014-10-14  254754400  \n",
       "2014-10-15  403734400  \n",
       "2014-10-16  288618000  \n",
       "2014-10-17  272718800  \n",
       "...               ...  \n",
       "2024-10-07   39505400  \n",
       "2024-10-08   31855700  \n",
       "2024-10-09   33591100  \n",
       "2024-10-10   28183500  \n",
       "2024-10-11   31668000  \n",
       "\n",
       "[2517 rows x 6 columns]"
      ]
     },
     "execution_count": 7,
     "metadata": {},
     "output_type": "execute_result"
    }
   ],
   "source": [
    "df"
   ]
  },
  {
   "cell_type": "code",
   "execution_count": 8,
   "id": "75d7fd0b-ab8f-45cc-9f0e-74414e05bd99",
   "metadata": {},
   "outputs": [
    {
     "data": {
      "text/plain": [
       "pandas.core.frame.DataFrame"
      ]
     },
     "execution_count": 8,
     "metadata": {},
     "output_type": "execute_result"
    }
   ],
   "source": [
    "type(df)"
   ]
  },
  {
   "cell_type": "code",
   "execution_count": 9,
   "id": "69eca59c-9607-4290-8950-c69c281d3204",
   "metadata": {},
   "outputs": [
    {
     "data": {
      "text/plain": [
       "(2517, 6)"
      ]
     },
     "execution_count": 9,
     "metadata": {},
     "output_type": "execute_result"
    }
   ],
   "source": [
    "df.shape"
   ]
  },
  {
   "cell_type": "code",
   "execution_count": null,
   "id": "736563da-31d8-4bd7-9b7e-70758eaea1f3",
   "metadata": {},
   "outputs": [],
   "source": []
  },
  {
   "cell_type": "code",
   "execution_count": 10,
   "id": "b4cc64bb-b9de-46ba-9d13-eb1aca7273f5",
   "metadata": {},
   "outputs": [
    {
     "data": {
      "text/plain": [
       "Open         0\n",
       "High         0\n",
       "Low          0\n",
       "Close        0\n",
       "Adj Close    0\n",
       "Volume       0\n",
       "dtype: int64"
      ]
     },
     "execution_count": 10,
     "metadata": {},
     "output_type": "execute_result"
    }
   ],
   "source": [
    "df.isna().sum()"
   ]
  },
  {
   "cell_type": "code",
   "execution_count": 11,
   "id": "99776bfb-137b-4499-bed6-0dc887135334",
   "metadata": {},
   "outputs": [
    {
     "data": {
      "text/html": [
       "<div>\n",
       "<style scoped>\n",
       "    .dataframe tbody tr th:only-of-type {\n",
       "        vertical-align: middle;\n",
       "    }\n",
       "\n",
       "    .dataframe tbody tr th {\n",
       "        vertical-align: top;\n",
       "    }\n",
       "\n",
       "    .dataframe thead th {\n",
       "        text-align: right;\n",
       "    }\n",
       "</style>\n",
       "<table border=\"1\" class=\"dataframe\">\n",
       "  <thead>\n",
       "    <tr style=\"text-align: right;\">\n",
       "      <th></th>\n",
       "      <th>Open</th>\n",
       "      <th>High</th>\n",
       "      <th>Low</th>\n",
       "      <th>Close</th>\n",
       "      <th>Adj Close</th>\n",
       "      <th>Volume</th>\n",
       "    </tr>\n",
       "  </thead>\n",
       "  <tbody>\n",
       "    <tr>\n",
       "      <th>count</th>\n",
       "      <td>2517.000000</td>\n",
       "      <td>2517.000000</td>\n",
       "      <td>2517.000000</td>\n",
       "      <td>2517.000000</td>\n",
       "      <td>2517.000000</td>\n",
       "      <td>2.517000e+03</td>\n",
       "    </tr>\n",
       "    <tr>\n",
       "      <th>mean</th>\n",
       "      <td>91.683309</td>\n",
       "      <td>92.664879</td>\n",
       "      <td>90.757498</td>\n",
       "      <td>91.755564</td>\n",
       "      <td>89.708760</td>\n",
       "      <td>1.205592e+08</td>\n",
       "    </tr>\n",
       "    <tr>\n",
       "      <th>std</th>\n",
       "      <td>62.437633</td>\n",
       "      <td>63.098563</td>\n",
       "      <td>61.812667</td>\n",
       "      <td>62.489697</td>\n",
       "      <td>62.982184</td>\n",
       "      <td>6.940177e+07</td>\n",
       "    </tr>\n",
       "    <tr>\n",
       "      <th>min</th>\n",
       "      <td>22.500000</td>\n",
       "      <td>22.917500</td>\n",
       "      <td>22.367500</td>\n",
       "      <td>22.584999</td>\n",
       "      <td>20.720037</td>\n",
       "      <td>2.404830e+07</td>\n",
       "    </tr>\n",
       "    <tr>\n",
       "      <th>25%</th>\n",
       "      <td>35.812500</td>\n",
       "      <td>36.009998</td>\n",
       "      <td>35.552502</td>\n",
       "      <td>35.792500</td>\n",
       "      <td>33.367764</td>\n",
       "      <td>7.393830e+07</td>\n",
       "    </tr>\n",
       "    <tr>\n",
       "      <th>50%</th>\n",
       "      <td>57.695000</td>\n",
       "      <td>58.367500</td>\n",
       "      <td>57.000000</td>\n",
       "      <td>57.522499</td>\n",
       "      <td>55.661304</td>\n",
       "      <td>1.031623e+08</td>\n",
       "    </tr>\n",
       "    <tr>\n",
       "      <th>75%</th>\n",
       "      <td>148.990005</td>\n",
       "      <td>150.720001</td>\n",
       "      <td>147.679993</td>\n",
       "      <td>149.320007</td>\n",
       "      <td>147.321075</td>\n",
       "      <td>1.466400e+08</td>\n",
       "    </tr>\n",
       "    <tr>\n",
       "      <th>max</th>\n",
       "      <td>236.479996</td>\n",
       "      <td>237.229996</td>\n",
       "      <td>233.089996</td>\n",
       "      <td>234.820007</td>\n",
       "      <td>234.548523</td>\n",
       "      <td>6.488252e+08</td>\n",
       "    </tr>\n",
       "  </tbody>\n",
       "</table>\n",
       "</div>"
      ],
      "text/plain": [
       "              Open         High          Low        Close    Adj Close  \\\n",
       "count  2517.000000  2517.000000  2517.000000  2517.000000  2517.000000   \n",
       "mean     91.683309    92.664879    90.757498    91.755564    89.708760   \n",
       "std      62.437633    63.098563    61.812667    62.489697    62.982184   \n",
       "min      22.500000    22.917500    22.367500    22.584999    20.720037   \n",
       "25%      35.812500    36.009998    35.552502    35.792500    33.367764   \n",
       "50%      57.695000    58.367500    57.000000    57.522499    55.661304   \n",
       "75%     148.990005   150.720001   147.679993   149.320007   147.321075   \n",
       "max     236.479996   237.229996   233.089996   234.820007   234.548523   \n",
       "\n",
       "             Volume  \n",
       "count  2.517000e+03  \n",
       "mean   1.205592e+08  \n",
       "std    6.940177e+07  \n",
       "min    2.404830e+07  \n",
       "25%    7.393830e+07  \n",
       "50%    1.031623e+08  \n",
       "75%    1.466400e+08  \n",
       "max    6.488252e+08  "
      ]
     },
     "execution_count": 11,
     "metadata": {},
     "output_type": "execute_result"
    }
   ],
   "source": [
    "df.describe()  # Donne une apperçu statistique de la trame de données"
   ]
  },
  {
   "cell_type": "code",
   "execution_count": 12,
   "id": "8da5989f-ac4d-4533-9897-f9fc4283387e",
   "metadata": {},
   "outputs": [
    {
     "data": {
      "text/plain": [
       "Open         float64\n",
       "High         float64\n",
       "Low          float64\n",
       "Close        float64\n",
       "Adj Close    float64\n",
       "Volume         int64\n",
       "dtype: object"
      ]
     },
     "execution_count": 12,
     "metadata": {},
     "output_type": "execute_result"
    }
   ],
   "source": [
    "df.dtypes"
   ]
  },
  {
   "cell_type": "code",
   "execution_count": 13,
   "id": "8d93484b-bdd3-4541-8716-f509eed1eb3b",
   "metadata": {},
   "outputs": [
    {
     "data": {
      "text/html": [
       "<div>\n",
       "<style scoped>\n",
       "    .dataframe tbody tr th:only-of-type {\n",
       "        vertical-align: middle;\n",
       "    }\n",
       "\n",
       "    .dataframe tbody tr th {\n",
       "        vertical-align: top;\n",
       "    }\n",
       "\n",
       "    .dataframe thead th {\n",
       "        text-align: right;\n",
       "    }\n",
       "</style>\n",
       "<table border=\"1\" class=\"dataframe\">\n",
       "  <thead>\n",
       "    <tr style=\"text-align: right;\">\n",
       "      <th></th>\n",
       "      <th>Open</th>\n",
       "      <th>High</th>\n",
       "      <th>Low</th>\n",
       "      <th>Close</th>\n",
       "      <th>Adj Close</th>\n",
       "      <th>Volume</th>\n",
       "    </tr>\n",
       "    <tr>\n",
       "      <th>Date</th>\n",
       "      <th></th>\n",
       "      <th></th>\n",
       "      <th></th>\n",
       "      <th></th>\n",
       "      <th></th>\n",
       "      <th></th>\n",
       "    </tr>\n",
       "  </thead>\n",
       "  <tbody>\n",
       "    <tr>\n",
       "      <th>2014-10-13</th>\n",
       "      <td>25.332500</td>\n",
       "      <td>25.445000</td>\n",
       "      <td>24.952499</td>\n",
       "      <td>24.952499</td>\n",
       "      <td>22.155502</td>\n",
       "      <td>214333600</td>\n",
       "    </tr>\n",
       "    <tr>\n",
       "      <th>2014-10-14</th>\n",
       "      <td>25.097500</td>\n",
       "      <td>25.129999</td>\n",
       "      <td>24.642500</td>\n",
       "      <td>24.687500</td>\n",
       "      <td>21.920204</td>\n",
       "      <td>254754400</td>\n",
       "    </tr>\n",
       "    <tr>\n",
       "      <th>2014-10-15</th>\n",
       "      <td>24.492500</td>\n",
       "      <td>24.787500</td>\n",
       "      <td>23.795000</td>\n",
       "      <td>24.385000</td>\n",
       "      <td>21.651623</td>\n",
       "      <td>403734400</td>\n",
       "    </tr>\n",
       "    <tr>\n",
       "      <th>2014-10-16</th>\n",
       "      <td>23.887501</td>\n",
       "      <td>24.430000</td>\n",
       "      <td>23.852501</td>\n",
       "      <td>24.065001</td>\n",
       "      <td>21.367487</td>\n",
       "      <td>288618000</td>\n",
       "    </tr>\n",
       "    <tr>\n",
       "      <th>2014-10-17</th>\n",
       "      <td>24.375000</td>\n",
       "      <td>24.750000</td>\n",
       "      <td>24.202499</td>\n",
       "      <td>24.417500</td>\n",
       "      <td>21.680471</td>\n",
       "      <td>272718800</td>\n",
       "    </tr>\n",
       "  </tbody>\n",
       "</table>\n",
       "</div>"
      ],
      "text/plain": [
       "                 Open       High        Low      Close  Adj Close     Volume\n",
       "Date                                                                        \n",
       "2014-10-13  25.332500  25.445000  24.952499  24.952499  22.155502  214333600\n",
       "2014-10-14  25.097500  25.129999  24.642500  24.687500  21.920204  254754400\n",
       "2014-10-15  24.492500  24.787500  23.795000  24.385000  21.651623  403734400\n",
       "2014-10-16  23.887501  24.430000  23.852501  24.065001  21.367487  288618000\n",
       "2014-10-17  24.375000  24.750000  24.202499  24.417500  21.680471  272718800"
      ]
     },
     "execution_count": 13,
     "metadata": {},
     "output_type": "execute_result"
    }
   ],
   "source": [
    "df.head()"
   ]
  },
  {
   "cell_type": "code",
   "execution_count": 14,
   "id": "5072dc66-a056-43cd-8566-8aec72533374",
   "metadata": {},
   "outputs": [],
   "source": [
    "df = df.reset_index()"
   ]
  },
  {
   "cell_type": "code",
   "execution_count": 15,
   "id": "fac03d9b-6389-4b52-8130-a98e96710de7",
   "metadata": {},
   "outputs": [
    {
     "data": {
      "text/html": [
       "<div>\n",
       "<style scoped>\n",
       "    .dataframe tbody tr th:only-of-type {\n",
       "        vertical-align: middle;\n",
       "    }\n",
       "\n",
       "    .dataframe tbody tr th {\n",
       "        vertical-align: top;\n",
       "    }\n",
       "\n",
       "    .dataframe thead th {\n",
       "        text-align: right;\n",
       "    }\n",
       "</style>\n",
       "<table border=\"1\" class=\"dataframe\">\n",
       "  <thead>\n",
       "    <tr style=\"text-align: right;\">\n",
       "      <th></th>\n",
       "      <th>Date</th>\n",
       "      <th>Open</th>\n",
       "      <th>High</th>\n",
       "      <th>Low</th>\n",
       "      <th>Close</th>\n",
       "      <th>Adj Close</th>\n",
       "      <th>Volume</th>\n",
       "    </tr>\n",
       "  </thead>\n",
       "  <tbody>\n",
       "    <tr>\n",
       "      <th>0</th>\n",
       "      <td>2014-10-13</td>\n",
       "      <td>25.332500</td>\n",
       "      <td>25.445000</td>\n",
       "      <td>24.952499</td>\n",
       "      <td>24.952499</td>\n",
       "      <td>22.155502</td>\n",
       "      <td>214333600</td>\n",
       "    </tr>\n",
       "    <tr>\n",
       "      <th>1</th>\n",
       "      <td>2014-10-14</td>\n",
       "      <td>25.097500</td>\n",
       "      <td>25.129999</td>\n",
       "      <td>24.642500</td>\n",
       "      <td>24.687500</td>\n",
       "      <td>21.920204</td>\n",
       "      <td>254754400</td>\n",
       "    </tr>\n",
       "    <tr>\n",
       "      <th>2</th>\n",
       "      <td>2014-10-15</td>\n",
       "      <td>24.492500</td>\n",
       "      <td>24.787500</td>\n",
       "      <td>23.795000</td>\n",
       "      <td>24.385000</td>\n",
       "      <td>21.651623</td>\n",
       "      <td>403734400</td>\n",
       "    </tr>\n",
       "    <tr>\n",
       "      <th>3</th>\n",
       "      <td>2014-10-16</td>\n",
       "      <td>23.887501</td>\n",
       "      <td>24.430000</td>\n",
       "      <td>23.852501</td>\n",
       "      <td>24.065001</td>\n",
       "      <td>21.367487</td>\n",
       "      <td>288618000</td>\n",
       "    </tr>\n",
       "    <tr>\n",
       "      <th>4</th>\n",
       "      <td>2014-10-17</td>\n",
       "      <td>24.375000</td>\n",
       "      <td>24.750000</td>\n",
       "      <td>24.202499</td>\n",
       "      <td>24.417500</td>\n",
       "      <td>21.680471</td>\n",
       "      <td>272718800</td>\n",
       "    </tr>\n",
       "  </tbody>\n",
       "</table>\n",
       "</div>"
      ],
      "text/plain": [
       "        Date       Open       High        Low      Close  Adj Close     Volume\n",
       "0 2014-10-13  25.332500  25.445000  24.952499  24.952499  22.155502  214333600\n",
       "1 2014-10-14  25.097500  25.129999  24.642500  24.687500  21.920204  254754400\n",
       "2 2014-10-15  24.492500  24.787500  23.795000  24.385000  21.651623  403734400\n",
       "3 2014-10-16  23.887501  24.430000  23.852501  24.065001  21.367487  288618000\n",
       "4 2014-10-17  24.375000  24.750000  24.202499  24.417500  21.680471  272718800"
      ]
     },
     "execution_count": 15,
     "metadata": {},
     "output_type": "execute_result"
    }
   ],
   "source": [
    "df.head()"
   ]
  },
  {
   "cell_type": "code",
   "execution_count": 16,
   "id": "5196f5a1-07c4-4cbf-8220-bc58afd9e39f",
   "metadata": {},
   "outputs": [
    {
     "data": {
      "image/png": "[encoded data removed]",
      "text/plain": [
       "<Figure size 1400x600 with 1 Axes>"
      ]
     },
     "metadata": {},
     "output_type": "display_data"
    }
   ],
   "source": [
    "plt.figure(figsize=(14, 6))\n",
    "plt.plot(df.Close);\n",
    "plt.title(ticker);\n",
    "plt.xlabel('Days');\n",
    "plt.ylabel('Close Price');"
   ]
  },
  {
   "cell_type": "code",
   "execution_count": null,
   "id": "c9896f4b-65f0-474d-8d73-35d495f9c8ac",
   "metadata": {},
   "outputs": [],
   "source": []
  },
  {
   "cell_type": "markdown",
   "id": "ae40d6c8-d264-467d-b773-437bf9b9cdb7",
   "metadata": {},
   "source": [
    "# # 3. Feature Engineering"
   ]
  },
  {
   "cell_type": "code",
   "execution_count": 17,
   "id": "e74c5335-ed5a-4c4e-a3a7-a4f2fb1264dc",
   "metadata": {},
   "outputs": [
    {
     "data": {
      "text/html": [
       "<div>\n",
       "<style scoped>\n",
       "    .dataframe tbody tr th:only-of-type {\n",
       "        vertical-align: middle;\n",
       "    }\n",
       "\n",
       "    .dataframe tbody tr th {\n",
       "        vertical-align: top;\n",
       "    }\n",
       "\n",
       "    .dataframe thead th {\n",
       "        text-align: right;\n",
       "    }\n",
       "</style>\n",
       "<table border=\"1\" class=\"dataframe\">\n",
       "  <thead>\n",
       "    <tr style=\"text-align: right;\">\n",
       "      <th></th>\n",
       "      <th>0</th>\n",
       "    </tr>\n",
       "  </thead>\n",
       "  <tbody>\n",
       "    <tr>\n",
       "      <th>0</th>\n",
       "      <td>10</td>\n",
       "    </tr>\n",
       "    <tr>\n",
       "      <th>1</th>\n",
       "      <td>20</td>\n",
       "    </tr>\n",
       "    <tr>\n",
       "      <th>2</th>\n",
       "      <td>30</td>\n",
       "    </tr>\n",
       "    <tr>\n",
       "      <th>3</th>\n",
       "      <td>40</td>\n",
       "    </tr>\n",
       "    <tr>\n",
       "      <th>4</th>\n",
       "      <td>50</td>\n",
       "    </tr>\n",
       "    <tr>\n",
       "      <th>5</th>\n",
       "      <td>60</td>\n",
       "    </tr>\n",
       "    <tr>\n",
       "      <th>6</th>\n",
       "      <td>70</td>\n",
       "    </tr>\n",
       "    <tr>\n",
       "      <th>7</th>\n",
       "      <td>80</td>\n",
       "    </tr>\n",
       "    <tr>\n",
       "      <th>8</th>\n",
       "      <td>90</td>\n",
       "    </tr>\n",
       "    <tr>\n",
       "      <th>9</th>\n",
       "      <td>100</td>\n",
       "    </tr>\n",
       "  </tbody>\n",
       "</table>\n",
       "</div>"
      ],
      "text/plain": [
       "     0\n",
       "0   10\n",
       "1   20\n",
       "2   30\n",
       "3   40\n",
       "4   50\n",
       "5   60\n",
       "6   70\n",
       "7   80\n",
       "8   90\n",
       "9  100"
      ]
     },
     "execution_count": 17,
     "metadata": {},
     "output_type": "execute_result"
    }
   ],
   "source": [
    "df1 = pd.DataFrame([10, 20, 30, 40, 50, 60, 70, 80, 90, 100])\n",
    "df1"
   ]
  },
  {
   "cell_type": "code",
   "execution_count": 18,
   "id": "ef06594c-e499-4b41-98e6-65e39240e3f7",
   "metadata": {},
   "outputs": [
    {
     "data": {
      "text/html": [
       "<div>\n",
       "<style scoped>\n",
       "    .dataframe tbody tr th:only-of-type {\n",
       "        vertical-align: middle;\n",
       "    }\n",
       "\n",
       "    .dataframe tbody tr th {\n",
       "        vertical-align: top;\n",
       "    }\n",
       "\n",
       "    .dataframe thead th {\n",
       "        text-align: right;\n",
       "    }\n",
       "</style>\n",
       "<table border=\"1\" class=\"dataframe\">\n",
       "  <thead>\n",
       "    <tr style=\"text-align: right;\">\n",
       "      <th></th>\n",
       "      <th>0</th>\n",
       "      <th>MA_5</th>\n",
       "    </tr>\n",
       "  </thead>\n",
       "  <tbody>\n",
       "    <tr>\n",
       "      <th>0</th>\n",
       "      <td>10</td>\n",
       "      <td>NaN</td>\n",
       "    </tr>\n",
       "    <tr>\n",
       "      <th>1</th>\n",
       "      <td>20</td>\n",
       "      <td>NaN</td>\n",
       "    </tr>\n",
       "    <tr>\n",
       "      <th>2</th>\n",
       "      <td>30</td>\n",
       "      <td>NaN</td>\n",
       "    </tr>\n",
       "    <tr>\n",
       "      <th>3</th>\n",
       "      <td>40</td>\n",
       "      <td>NaN</td>\n",
       "    </tr>\n",
       "    <tr>\n",
       "      <th>4</th>\n",
       "      <td>50</td>\n",
       "      <td>30.0</td>\n",
       "    </tr>\n",
       "    <tr>\n",
       "      <th>5</th>\n",
       "      <td>60</td>\n",
       "      <td>40.0</td>\n",
       "    </tr>\n",
       "    <tr>\n",
       "      <th>6</th>\n",
       "      <td>70</td>\n",
       "      <td>50.0</td>\n",
       "    </tr>\n",
       "    <tr>\n",
       "      <th>7</th>\n",
       "      <td>80</td>\n",
       "      <td>60.0</td>\n",
       "    </tr>\n",
       "    <tr>\n",
       "      <th>8</th>\n",
       "      <td>90</td>\n",
       "      <td>70.0</td>\n",
       "    </tr>\n",
       "    <tr>\n",
       "      <th>9</th>\n",
       "      <td>100</td>\n",
       "      <td>80.0</td>\n",
       "    </tr>\n",
       "  </tbody>\n",
       "</table>\n",
       "</div>"
      ],
      "text/plain": [
       "     0  MA_5\n",
       "0   10   NaN\n",
       "1   20   NaN\n",
       "2   30   NaN\n",
       "3   40   NaN\n",
       "4   50  30.0\n",
       "5   60  40.0\n",
       "6   70  50.0\n",
       "7   80  60.0\n",
       "8   90  70.0\n",
       "9  100  80.0"
      ]
     },
     "execution_count": 18,
     "metadata": {},
     "output_type": "execute_result"
    }
   ],
   "source": [
    "df1['MA_5'] = df1.rolling(5).mean()\n",
    "df1"
   ]
  },
  {
   "cell_type": "code",
   "execution_count": null,
   "id": "c176516d-5d30-4837-b4a0-8c84e6597ba9",
   "metadata": {},
   "outputs": [],
   "source": []
  },
  {
   "cell_type": "markdown",
   "id": "b3b5cee7-cdc8-4b70-9109-b1b05620e79f",
   "metadata": {},
   "source": [
    "### 100 days Moving Average"
   ]
  },
  {
   "cell_type": "code",
   "execution_count": 19,
   "id": "f9bac38f-9370-427d-a94c-594c52a98870",
   "metadata": {},
   "outputs": [
    {
     "data": {
      "text/html": [
       "<div>\n",
       "<style scoped>\n",
       "    .dataframe tbody tr th:only-of-type {\n",
       "        vertical-align: middle;\n",
       "    }\n",
       "\n",
       "    .dataframe tbody tr th {\n",
       "        vertical-align: top;\n",
       "    }\n",
       "\n",
       "    .dataframe thead th {\n",
       "        text-align: right;\n",
       "    }\n",
       "</style>\n",
       "<table border=\"1\" class=\"dataframe\">\n",
       "  <thead>\n",
       "    <tr style=\"text-align: right;\">\n",
       "      <th></th>\n",
       "      <th>Date</th>\n",
       "      <th>Open</th>\n",
       "      <th>High</th>\n",
       "      <th>Low</th>\n",
       "      <th>Close</th>\n",
       "      <th>Adj Close</th>\n",
       "      <th>Volume</th>\n",
       "      <th>MA_100</th>\n",
       "    </tr>\n",
       "  </thead>\n",
       "  <tbody>\n",
       "    <tr>\n",
       "      <th>0</th>\n",
       "      <td>2014-10-13</td>\n",
       "      <td>25.332500</td>\n",
       "      <td>25.445000</td>\n",
       "      <td>24.952499</td>\n",
       "      <td>24.952499</td>\n",
       "      <td>22.155502</td>\n",
       "      <td>214333600</td>\n",
       "      <td>NaN</td>\n",
       "    </tr>\n",
       "    <tr>\n",
       "      <th>1</th>\n",
       "      <td>2014-10-14</td>\n",
       "      <td>25.097500</td>\n",
       "      <td>25.129999</td>\n",
       "      <td>24.642500</td>\n",
       "      <td>24.687500</td>\n",
       "      <td>21.920204</td>\n",
       "      <td>254754400</td>\n",
       "      <td>NaN</td>\n",
       "    </tr>\n",
       "    <tr>\n",
       "      <th>2</th>\n",
       "      <td>2014-10-15</td>\n",
       "      <td>24.492500</td>\n",
       "      <td>24.787500</td>\n",
       "      <td>23.795000</td>\n",
       "      <td>24.385000</td>\n",
       "      <td>21.651623</td>\n",
       "      <td>403734400</td>\n",
       "      <td>NaN</td>\n",
       "    </tr>\n",
       "    <tr>\n",
       "      <th>3</th>\n",
       "      <td>2014-10-16</td>\n",
       "      <td>23.887501</td>\n",
       "      <td>24.430000</td>\n",
       "      <td>23.852501</td>\n",
       "      <td>24.065001</td>\n",
       "      <td>21.367487</td>\n",
       "      <td>288618000</td>\n",
       "      <td>NaN</td>\n",
       "    </tr>\n",
       "    <tr>\n",
       "      <th>4</th>\n",
       "      <td>2014-10-17</td>\n",
       "      <td>24.375000</td>\n",
       "      <td>24.750000</td>\n",
       "      <td>24.202499</td>\n",
       "      <td>24.417500</td>\n",
       "      <td>21.680471</td>\n",
       "      <td>272718800</td>\n",
       "      <td>NaN</td>\n",
       "    </tr>\n",
       "  </tbody>\n",
       "</table>\n",
       "</div>"
      ],
      "text/plain": [
       "        Date       Open       High        Low      Close  Adj Close  \\\n",
       "0 2014-10-13  25.332500  25.445000  24.952499  24.952499  22.155502   \n",
       "1 2014-10-14  25.097500  25.129999  24.642500  24.687500  21.920204   \n",
       "2 2014-10-15  24.492500  24.787500  23.795000  24.385000  21.651623   \n",
       "3 2014-10-16  23.887501  24.430000  23.852501  24.065001  21.367487   \n",
       "4 2014-10-17  24.375000  24.750000  24.202499  24.417500  21.680471   \n",
       "\n",
       "      Volume  MA_100  \n",
       "0  214333600     NaN  \n",
       "1  254754400     NaN  \n",
       "2  403734400     NaN  \n",
       "3  288618000     NaN  \n",
       "4  272718800     NaN  "
      ]
     },
     "execution_count": 19,
     "metadata": {},
     "output_type": "execute_result"
    }
   ],
   "source": [
    "df['MA_100'] = df.Close.rolling(100).mean()\n",
    "df.head()"
   ]
  },
  {
   "cell_type": "code",
   "execution_count": 20,
   "id": "28b0638f-4079-4480-a579-13af8213b27b",
   "metadata": {},
   "outputs": [
    {
     "data": {
      "text/plain": [
       "[<matplotlib.lines.Line2D at 0x1e97afcc170>]"
      ]
     },
     "execution_count": 20,
     "metadata": {},
     "output_type": "execute_result"
    },
    {
     "data": {
      "image/png": "[encoded data removed]",
      "text/plain": [
       "<Figure size 1400x600 with 1 Axes>"
      ]
     },
     "metadata": {},
     "output_type": "display_data"
    }
   ],
   "source": [
    "plt.figure(figsize=(14, 6))\n",
    "plt.plot(df['MA_100'])"
   ]
  },
  {
   "cell_type": "code",
   "execution_count": 21,
   "id": "56f0ea67-552a-42ac-b5c6-2aa1e1c8e26c",
   "metadata": {},
   "outputs": [
    {
     "data": {
      "image/png": "[encoded data removed]",
      "text/plain": [
       "<Figure size 1400x600 with 1 Axes>"
      ]
     },
     "metadata": {},
     "output_type": "display_data"
    }
   ],
   "source": [
    "plt.figure(figsize=(14, 6))\n",
    "plt.plot(df.Close);\n",
    "plt.plot(df['MA_100'], 'r')\n",
    "plt.title('100 Days Moving Average');\n",
    "plt.xlabel('Days');\n",
    "plt.ylabel('Price');"
   ]
  },
  {
   "cell_type": "markdown",
   "id": "e6d218af-a469-4a1c-b3f6-00fb6e5cdc44",
   "metadata": {},
   "source": [
    "### 200 days Moving Average"
   ]
  },
  {
   "cell_type": "code",
   "execution_count": 22,
   "id": "d54f9584-5726-45cc-b797-1a5a06208985",
   "metadata": {},
   "outputs": [
    {
     "data": {
      "text/html": [
       "<div>\n",
       "<style scoped>\n",
       "    .dataframe tbody tr th:only-of-type {\n",
       "        vertical-align: middle;\n",
       "    }\n",
       "\n",
       "    .dataframe tbody tr th {\n",
       "        vertical-align: top;\n",
       "    }\n",
       "\n",
       "    .dataframe thead th {\n",
       "        text-align: right;\n",
       "    }\n",
       "</style>\n",
       "<table border=\"1\" class=\"dataframe\">\n",
       "  <thead>\n",
       "    <tr style=\"text-align: right;\">\n",
       "      <th></th>\n",
       "      <th>Date</th>\n",
       "      <th>Open</th>\n",
       "      <th>High</th>\n",
       "      <th>Low</th>\n",
       "      <th>Close</th>\n",
       "      <th>Adj Close</th>\n",
       "      <th>Volume</th>\n",
       "      <th>MA_100</th>\n",
       "      <th>MA_200</th>\n",
       "    </tr>\n",
       "  </thead>\n",
       "  <tbody>\n",
       "    <tr>\n",
       "      <th>0</th>\n",
       "      <td>2014-10-13</td>\n",
       "      <td>25.332500</td>\n",
       "      <td>25.445000</td>\n",
       "      <td>24.952499</td>\n",
       "      <td>24.952499</td>\n",
       "      <td>22.155502</td>\n",
       "      <td>214333600</td>\n",
       "      <td>NaN</td>\n",
       "      <td>NaN</td>\n",
       "    </tr>\n",
       "    <tr>\n",
       "      <th>1</th>\n",
       "      <td>2014-10-14</td>\n",
       "      <td>25.097500</td>\n",
       "      <td>25.129999</td>\n",
       "      <td>24.642500</td>\n",
       "      <td>24.687500</td>\n",
       "      <td>21.920204</td>\n",
       "      <td>254754400</td>\n",
       "      <td>NaN</td>\n",
       "      <td>NaN</td>\n",
       "    </tr>\n",
       "    <tr>\n",
       "      <th>2</th>\n",
       "      <td>2014-10-15</td>\n",
       "      <td>24.492500</td>\n",
       "      <td>24.787500</td>\n",
       "      <td>23.795000</td>\n",
       "      <td>24.385000</td>\n",
       "      <td>21.651623</td>\n",
       "      <td>403734400</td>\n",
       "      <td>NaN</td>\n",
       "      <td>NaN</td>\n",
       "    </tr>\n",
       "    <tr>\n",
       "      <th>3</th>\n",
       "      <td>2014-10-16</td>\n",
       "      <td>23.887501</td>\n",
       "      <td>24.430000</td>\n",
       "      <td>23.852501</td>\n",
       "      <td>24.065001</td>\n",
       "      <td>21.367487</td>\n",
       "      <td>288618000</td>\n",
       "      <td>NaN</td>\n",
       "      <td>NaN</td>\n",
       "    </tr>\n",
       "    <tr>\n",
       "      <th>4</th>\n",
       "      <td>2014-10-17</td>\n",
       "      <td>24.375000</td>\n",
       "      <td>24.750000</td>\n",
       "      <td>24.202499</td>\n",
       "      <td>24.417500</td>\n",
       "      <td>21.680471</td>\n",
       "      <td>272718800</td>\n",
       "      <td>NaN</td>\n",
       "      <td>NaN</td>\n",
       "    </tr>\n",
       "    <tr>\n",
       "      <th>...</th>\n",
       "      <td>...</td>\n",
       "      <td>...</td>\n",
       "      <td>...</td>\n",
       "      <td>...</td>\n",
       "      <td>...</td>\n",
       "      <td>...</td>\n",
       "      <td>...</td>\n",
       "      <td>...</td>\n",
       "      <td>...</td>\n",
       "    </tr>\n",
       "    <tr>\n",
       "      <th>198</th>\n",
       "      <td>2015-07-28</td>\n",
       "      <td>30.844999</td>\n",
       "      <td>30.977501</td>\n",
       "      <td>30.637501</td>\n",
       "      <td>30.844999</td>\n",
       "      <td>27.730165</td>\n",
       "      <td>134472400</td>\n",
       "      <td>31.771950</td>\n",
       "      <td>NaN</td>\n",
       "    </tr>\n",
       "    <tr>\n",
       "      <th>199</th>\n",
       "      <td>2015-07-29</td>\n",
       "      <td>30.787500</td>\n",
       "      <td>30.875000</td>\n",
       "      <td>30.567499</td>\n",
       "      <td>30.747499</td>\n",
       "      <td>27.642504</td>\n",
       "      <td>148046800</td>\n",
       "      <td>31.762925</td>\n",
       "      <td>30.132687</td>\n",
       "    </tr>\n",
       "    <tr>\n",
       "      <th>200</th>\n",
       "      <td>2015-07-30</td>\n",
       "      <td>30.580000</td>\n",
       "      <td>30.642500</td>\n",
       "      <td>30.427500</td>\n",
       "      <td>30.592501</td>\n",
       "      <td>27.503153</td>\n",
       "      <td>134513200</td>\n",
       "      <td>31.751000</td>\n",
       "      <td>30.160887</td>\n",
       "    </tr>\n",
       "    <tr>\n",
       "      <th>201</th>\n",
       "      <td>2015-07-31</td>\n",
       "      <td>30.650000</td>\n",
       "      <td>30.660000</td>\n",
       "      <td>30.227501</td>\n",
       "      <td>30.325001</td>\n",
       "      <td>27.262671</td>\n",
       "      <td>171540000</td>\n",
       "      <td>31.742975</td>\n",
       "      <td>30.189075</td>\n",
       "    </tr>\n",
       "    <tr>\n",
       "      <th>202</th>\n",
       "      <td>2015-08-03</td>\n",
       "      <td>30.375000</td>\n",
       "      <td>30.642500</td>\n",
       "      <td>29.379999</td>\n",
       "      <td>29.610001</td>\n",
       "      <td>26.619879</td>\n",
       "      <td>279904000</td>\n",
       "      <td>31.733475</td>\n",
       "      <td>30.215200</td>\n",
       "    </tr>\n",
       "  </tbody>\n",
       "</table>\n",
       "<p>203 rows × 9 columns</p>\n",
       "</div>"
      ],
      "text/plain": [
       "          Date       Open       High        Low      Close  Adj Close  \\\n",
       "0   2014-10-13  25.332500  25.445000  24.952499  24.952499  22.155502   \n",
       "1   2014-10-14  25.097500  25.129999  24.642500  24.687500  21.920204   \n",
       "2   2014-10-15  24.492500  24.787500  23.795000  24.385000  21.651623   \n",
       "3   2014-10-16  23.887501  24.430000  23.852501  24.065001  21.367487   \n",
       "4   2014-10-17  24.375000  24.750000  24.202499  24.417500  21.680471   \n",
       "..         ...        ...        ...        ...        ...        ...   \n",
       "198 2015-07-28  30.844999  30.977501  30.637501  30.844999  27.730165   \n",
       "199 2015-07-29  30.787500  30.875000  30.567499  30.747499  27.642504   \n",
       "200 2015-07-30  30.580000  30.642500  30.427500  30.592501  27.503153   \n",
       "201 2015-07-31  30.650000  30.660000  30.227501  30.325001  27.262671   \n",
       "202 2015-08-03  30.375000  30.642500  29.379999  29.610001  26.619879   \n",
       "\n",
       "        Volume     MA_100     MA_200  \n",
       "0    214333600        NaN        NaN  \n",
       "1    254754400        NaN        NaN  \n",
       "2    403734400        NaN        NaN  \n",
       "3    288618000        NaN        NaN  \n",
       "4    272718800        NaN        NaN  \n",
       "..         ...        ...        ...  \n",
       "198  134472400  31.771950        NaN  \n",
       "199  148046800  31.762925  30.132687  \n",
       "200  134513200  31.751000  30.160887  \n",
       "201  171540000  31.742975  30.189075  \n",
       "202  279904000  31.733475  30.215200  \n",
       "\n",
       "[203 rows x 9 columns]"
      ]
     },
     "execution_count": 22,
     "metadata": {},
     "output_type": "execute_result"
    }
   ],
   "source": [
    "df['MA_200'] = df.Close.rolling(200).mean()\n",
    "df.head(203)"
   ]
  },
  {
   "cell_type": "code",
   "execution_count": 23,
   "id": "45805051-3cdc-4ea9-b507-1a966fc94106",
   "metadata": {},
   "outputs": [
    {
     "data": {
      "image/png": "[encoded data removed]",
      "text/plain": [
       "<Figure size 1400x500 with 1 Axes>"
      ]
     },
     "metadata": {},
     "output_type": "display_data"
    }
   ],
   "source": [
    "plt.figure(figsize=(14, 5))\n",
    "plt.plot(df.Close);\n",
    "plt.plot(df['MA_100'], 'r')\n",
    "plt.plot(df['MA_200'], 'g')\n",
    "plt.title('200 Days Moving Average');\n",
    "plt.xlabel('Days');\n",
    "plt.ylabel('Price');"
   ]
  },
  {
   "cell_type": "markdown",
   "id": "86e70e3f-25b2-4cda-9c3f-a913080d1ef1",
   "metadata": {},
   "source": [
    "### Calculating % changed in each trading session"
   ]
  },
  {
   "cell_type": "code",
   "execution_count": 24,
   "id": "c29d0581-45fe-482e-b77f-a4139e49e6f4",
   "metadata": {},
   "outputs": [
    {
     "data": {
      "text/html": [
       "<div>\n",
       "<style scoped>\n",
       "    .dataframe tbody tr th:only-of-type {\n",
       "        vertical-align: middle;\n",
       "    }\n",
       "\n",
       "    .dataframe tbody tr th {\n",
       "        vertical-align: top;\n",
       "    }\n",
       "\n",
       "    .dataframe thead th {\n",
       "        text-align: right;\n",
       "    }\n",
       "</style>\n",
       "<table border=\"1\" class=\"dataframe\">\n",
       "  <thead>\n",
       "    <tr style=\"text-align: right;\">\n",
       "      <th></th>\n",
       "      <th>Date</th>\n",
       "      <th>Open</th>\n",
       "      <th>High</th>\n",
       "      <th>Low</th>\n",
       "      <th>Close</th>\n",
       "      <th>Adj Close</th>\n",
       "      <th>Volume</th>\n",
       "      <th>MA_100</th>\n",
       "      <th>MA_200</th>\n",
       "    </tr>\n",
       "  </thead>\n",
       "  <tbody>\n",
       "    <tr>\n",
       "      <th>0</th>\n",
       "      <td>2014-10-13</td>\n",
       "      <td>25.332500</td>\n",
       "      <td>25.445000</td>\n",
       "      <td>24.952499</td>\n",
       "      <td>24.952499</td>\n",
       "      <td>22.155502</td>\n",
       "      <td>214333600</td>\n",
       "      <td>NaN</td>\n",
       "      <td>NaN</td>\n",
       "    </tr>\n",
       "    <tr>\n",
       "      <th>1</th>\n",
       "      <td>2014-10-14</td>\n",
       "      <td>25.097500</td>\n",
       "      <td>25.129999</td>\n",
       "      <td>24.642500</td>\n",
       "      <td>24.687500</td>\n",
       "      <td>21.920204</td>\n",
       "      <td>254754400</td>\n",
       "      <td>NaN</td>\n",
       "      <td>NaN</td>\n",
       "    </tr>\n",
       "    <tr>\n",
       "      <th>2</th>\n",
       "      <td>2014-10-15</td>\n",
       "      <td>24.492500</td>\n",
       "      <td>24.787500</td>\n",
       "      <td>23.795000</td>\n",
       "      <td>24.385000</td>\n",
       "      <td>21.651623</td>\n",
       "      <td>403734400</td>\n",
       "      <td>NaN</td>\n",
       "      <td>NaN</td>\n",
       "    </tr>\n",
       "    <tr>\n",
       "      <th>3</th>\n",
       "      <td>2014-10-16</td>\n",
       "      <td>23.887501</td>\n",
       "      <td>24.430000</td>\n",
       "      <td>23.852501</td>\n",
       "      <td>24.065001</td>\n",
       "      <td>21.367487</td>\n",
       "      <td>288618000</td>\n",
       "      <td>NaN</td>\n",
       "      <td>NaN</td>\n",
       "    </tr>\n",
       "    <tr>\n",
       "      <th>4</th>\n",
       "      <td>2014-10-17</td>\n",
       "      <td>24.375000</td>\n",
       "      <td>24.750000</td>\n",
       "      <td>24.202499</td>\n",
       "      <td>24.417500</td>\n",
       "      <td>21.680471</td>\n",
       "      <td>272718800</td>\n",
       "      <td>NaN</td>\n",
       "      <td>NaN</td>\n",
       "    </tr>\n",
       "    <tr>\n",
       "      <th>...</th>\n",
       "      <td>...</td>\n",
       "      <td>...</td>\n",
       "      <td>...</td>\n",
       "      <td>...</td>\n",
       "      <td>...</td>\n",
       "      <td>...</td>\n",
       "      <td>...</td>\n",
       "      <td>...</td>\n",
       "      <td>...</td>\n",
       "    </tr>\n",
       "    <tr>\n",
       "      <th>2512</th>\n",
       "      <td>2024-10-07</td>\n",
       "      <td>224.500000</td>\n",
       "      <td>225.690002</td>\n",
       "      <td>221.330002</td>\n",
       "      <td>221.690002</td>\n",
       "      <td>221.690002</td>\n",
       "      <td>39505400</td>\n",
       "      <td>216.2292</td>\n",
       "      <td>198.0759</td>\n",
       "    </tr>\n",
       "    <tr>\n",
       "      <th>2513</th>\n",
       "      <td>2024-10-08</td>\n",
       "      <td>224.300003</td>\n",
       "      <td>225.979996</td>\n",
       "      <td>223.250000</td>\n",
       "      <td>225.770004</td>\n",
       "      <td>225.770004</td>\n",
       "      <td>31855700</td>\n",
       "      <td>216.5897</td>\n",
       "      <td>198.2306</td>\n",
       "    </tr>\n",
       "    <tr>\n",
       "      <th>2514</th>\n",
       "      <td>2024-10-09</td>\n",
       "      <td>225.229996</td>\n",
       "      <td>229.750000</td>\n",
       "      <td>224.830002</td>\n",
       "      <td>229.539993</td>\n",
       "      <td>229.539993</td>\n",
       "      <td>33591100</td>\n",
       "      <td>216.9867</td>\n",
       "      <td>198.4049</td>\n",
       "    </tr>\n",
       "    <tr>\n",
       "      <th>2515</th>\n",
       "      <td>2024-10-10</td>\n",
       "      <td>227.779999</td>\n",
       "      <td>229.500000</td>\n",
       "      <td>227.169998</td>\n",
       "      <td>229.039993</td>\n",
       "      <td>229.039993</td>\n",
       "      <td>28183500</td>\n",
       "      <td>217.3784</td>\n",
       "      <td>198.5821</td>\n",
       "    </tr>\n",
       "    <tr>\n",
       "      <th>2516</th>\n",
       "      <td>2024-10-11</td>\n",
       "      <td>229.300003</td>\n",
       "      <td>229.410004</td>\n",
       "      <td>227.339996</td>\n",
       "      <td>227.550003</td>\n",
       "      <td>227.550003</td>\n",
       "      <td>31668000</td>\n",
       "      <td>217.7435</td>\n",
       "      <td>198.7546</td>\n",
       "    </tr>\n",
       "  </tbody>\n",
       "</table>\n",
       "<p>2517 rows × 9 columns</p>\n",
       "</div>"
      ],
      "text/plain": [
       "           Date        Open        High         Low       Close   Adj Close  \\\n",
       "0    2014-10-13   25.332500   25.445000   24.952499   24.952499   22.155502   \n",
       "1    2014-10-14   25.097500   25.129999   24.642500   24.687500   21.920204   \n",
       "2    2014-10-15   24.492500   24.787500   23.795000   24.385000   21.651623   \n",
       "3    2014-10-16   23.887501   24.430000   23.852501   24.065001   21.367487   \n",
       "4    2014-10-17   24.375000   24.750000   24.202499   24.417500   21.680471   \n",
       "...         ...         ...         ...         ...         ...         ...   \n",
       "2512 2024-10-07  224.500000  225.690002  221.330002  221.690002  221.690002   \n",
       "2513 2024-10-08  224.300003  225.979996  223.250000  225.770004  225.770004   \n",
       "2514 2024-10-09  225.229996  229.750000  224.830002  229.539993  229.539993   \n",
       "2515 2024-10-10  227.779999  229.500000  227.169998  229.039993  229.039993   \n",
       "2516 2024-10-11  229.300003  229.410004  227.339996  227.550003  227.550003   \n",
       "\n",
       "         Volume    MA_100    MA_200  \n",
       "0     214333600       NaN       NaN  \n",
       "1     254754400       NaN       NaN  \n",
       "2     403734400       NaN       NaN  \n",
       "3     288618000       NaN       NaN  \n",
       "4     272718800       NaN       NaN  \n",
       "...         ...       ...       ...  \n",
       "2512   39505400  216.2292  198.0759  \n",
       "2513   31855700  216.5897  198.2306  \n",
       "2514   33591100  216.9867  198.4049  \n",
       "2515   28183500  217.3784  198.5821  \n",
       "2516   31668000  217.7435  198.7546  \n",
       "\n",
       "[2517 rows x 9 columns]"
      ]
     },
     "execution_count": 24,
     "metadata": {},
     "output_type": "execute_result"
    }
   ],
   "source": [
    "df"
   ]
  },
  {
   "cell_type": "code",
   "execution_count": 25,
   "id": "b18fdf7b-ce62-49dd-92ca-7fad90485de8",
   "metadata": {},
   "outputs": [
    {
     "data": {
      "text/html": [
       "<div>\n",
       "<style scoped>\n",
       "    .dataframe tbody tr th:only-of-type {\n",
       "        vertical-align: middle;\n",
       "    }\n",
       "\n",
       "    .dataframe tbody tr th {\n",
       "        vertical-align: top;\n",
       "    }\n",
       "\n",
       "    .dataframe thead th {\n",
       "        text-align: right;\n",
       "    }\n",
       "</style>\n",
       "<table border=\"1\" class=\"dataframe\">\n",
       "  <thead>\n",
       "    <tr style=\"text-align: right;\">\n",
       "      <th></th>\n",
       "      <th>Close</th>\n",
       "      <th>Percentage Changed</th>\n",
       "    </tr>\n",
       "  </thead>\n",
       "  <tbody>\n",
       "    <tr>\n",
       "      <th>0</th>\n",
       "      <td>24.952499</td>\n",
       "      <td>NaN</td>\n",
       "    </tr>\n",
       "    <tr>\n",
       "      <th>1</th>\n",
       "      <td>24.687500</td>\n",
       "      <td>-0.010620</td>\n",
       "    </tr>\n",
       "    <tr>\n",
       "      <th>2</th>\n",
       "      <td>24.385000</td>\n",
       "      <td>-0.012253</td>\n",
       "    </tr>\n",
       "    <tr>\n",
       "      <th>3</th>\n",
       "      <td>24.065001</td>\n",
       "      <td>-0.013123</td>\n",
       "    </tr>\n",
       "    <tr>\n",
       "      <th>4</th>\n",
       "      <td>24.417500</td>\n",
       "      <td>0.014648</td>\n",
       "    </tr>\n",
       "    <tr>\n",
       "      <th>...</th>\n",
       "      <td>...</td>\n",
       "      <td>...</td>\n",
       "    </tr>\n",
       "    <tr>\n",
       "      <th>2512</th>\n",
       "      <td>221.690002</td>\n",
       "      <td>-0.022531</td>\n",
       "    </tr>\n",
       "    <tr>\n",
       "      <th>2513</th>\n",
       "      <td>225.770004</td>\n",
       "      <td>0.018404</td>\n",
       "    </tr>\n",
       "    <tr>\n",
       "      <th>2514</th>\n",
       "      <td>229.539993</td>\n",
       "      <td>0.016698</td>\n",
       "    </tr>\n",
       "    <tr>\n",
       "      <th>2515</th>\n",
       "      <td>229.039993</td>\n",
       "      <td>-0.002178</td>\n",
       "    </tr>\n",
       "    <tr>\n",
       "      <th>2516</th>\n",
       "      <td>227.550003</td>\n",
       "      <td>-0.006505</td>\n",
       "    </tr>\n",
       "  </tbody>\n",
       "</table>\n",
       "<p>2517 rows × 2 columns</p>\n",
       "</div>"
      ],
      "text/plain": [
       "           Close  Percentage Changed\n",
       "0      24.952499                 NaN\n",
       "1      24.687500           -0.010620\n",
       "2      24.385000           -0.012253\n",
       "3      24.065001           -0.013123\n",
       "4      24.417500            0.014648\n",
       "...          ...                 ...\n",
       "2512  221.690002           -0.022531\n",
       "2513  225.770004            0.018404\n",
       "2514  229.539993            0.016698\n",
       "2515  229.039993           -0.002178\n",
       "2516  227.550003           -0.006505\n",
       "\n",
       "[2517 rows x 2 columns]"
      ]
     },
     "execution_count": 25,
     "metadata": {},
     "output_type": "execute_result"
    }
   ],
   "source": [
    "df['Percentage Changed'] = df.Close.pct_change()\n",
    "df[['Close', 'Percentage Changed']]"
   ]
  },
  {
   "cell_type": "code",
   "execution_count": 26,
   "id": "f2f6699e-1fd9-4614-ad9d-8e2bca0d9970",
   "metadata": {},
   "outputs": [
    {
     "data": {
      "image/png": "[encoded data removed]",
      "text/plain": [
       "<Figure size 1400x500 with 1 Axes>"
      ]
     },
     "metadata": {},
     "output_type": "display_data"
    }
   ],
   "source": [
    "plt.figure(figsize=(14, 5))\n",
    "plt.plot(df['Percentage Changed']);"
   ]
  },
  {
   "cell_type": "code",
   "execution_count": null,
   "id": "23647fb8-d0b3-4235-b534-9a4bf8765c6f",
   "metadata": {},
   "outputs": [],
   "source": []
  },
  {
   "cell_type": "markdown",
   "id": "41ab581a-1e70-43d9-a3f7-0661c91a947f",
   "metadata": {},
   "source": [
    "# 4. Data Processing"
   ]
  },
  {
   "cell_type": "code",
   "execution_count": 27,
   "id": "f3c571ca-1f90-4a9c-9e9c-09247c2463f8",
   "metadata": {},
   "outputs": [
    {
     "data": {
      "text/plain": [
       "(2517, 10)"
      ]
     },
     "execution_count": 27,
     "metadata": {},
     "output_type": "execute_result"
    }
   ],
   "source": [
    "df.shape"
   ]
  },
  {
   "cell_type": "code",
   "execution_count": 28,
   "id": "ba08624d-4c22-49a8-a72b-799706ab093e",
   "metadata": {},
   "outputs": [
    {
     "name": "stdout",
     "output_type": "stream",
     "text": [
      "Data Traning\n"
     ]
    },
    {
     "ename": "NameError",
     "evalue": "name 'data_traning' is not defined",
     "output_type": "error",
     "traceback": [
      "\u001b[1;31m---------------------------------------------------------------------------\u001b[0m",
      "\u001b[1;31mNameError\u001b[0m                                 Traceback (most recent call last)",
      "Cell \u001b[1;32mIn[28], line 6\u001b[0m\n\u001b[0;32m      3\u001b[0m data_testing \u001b[38;5;241m=\u001b[39m pd\u001b[38;5;241m.\u001b[39mDataFrame(df\u001b[38;5;241m.\u001b[39mClose[\u001b[38;5;28mint\u001b[39m(\u001b[38;5;28mlen\u001b[39m(df)\u001b[38;5;241m*\u001b[39m\u001b[38;5;241m0.7\u001b[39m): \u001b[38;5;28mint\u001b[39m(\u001b[38;5;28mlen\u001b[39m(df))])\n\u001b[0;32m      5\u001b[0m \u001b[38;5;28mprint\u001b[39m(\u001b[38;5;124m'\u001b[39m\u001b[38;5;124mData Traning\u001b[39m\u001b[38;5;124m'\u001b[39m)\n\u001b[1;32m----> 6\u001b[0m \u001b[38;5;28mprint\u001b[39m(data_traning)\n\u001b[0;32m      7\u001b[0m \u001b[38;5;28mprint\u001b[39m(\u001b[38;5;124m'\u001b[39m\u001b[38;5;124mData Testing\u001b[39m\u001b[38;5;124m'\u001b[39m)\n\u001b[0;32m      8\u001b[0m \u001b[38;5;28mprint\u001b[39m(data_testing)\n",
      "\u001b[1;31mNameError\u001b[0m: name 'data_traning' is not defined"
     ]
    }
   ],
   "source": [
    "# Splitting data into Training and Testing datasets\n",
    "data_training = pd.DataFrame(df.Close[0:int(len(df)*0.7)])\n",
    "data_testing = pd.DataFrame(df.Close[int(len(df)*0.7): int(len(df))])\n",
    "\n",
    "print('Data Traning')\n",
    "print(data_traning)\n",
    "print('Data Testing')\n",
    "print(data_testing)"
   ]
  },
  {
   "cell_type": "code",
   "execution_count": null,
   "id": "b671f723-661a-4081-bb79-01cf334d3120",
   "metadata": {},
   "outputs": [],
   "source": [
    "data_training"
   ]
  },
  {
   "cell_type": "code",
   "execution_count": null,
   "id": "b3e147fb-c7cb-4965-b27e-ef661caaf209",
   "metadata": {},
   "outputs": [],
   "source": [
    "data_testing"
   ]
  },
  {
   "cell_type": "markdown",
   "id": "5f198630-64b5-43c9-9f59-6bee9319b218",
   "metadata": {},
   "source": [
    "#### Nous allons convertir les données (les 70% pour l'entraînement) en des valeurs entre 0 et 1"
   ]
  },
  {
   "cell_type": "code",
   "execution_count": null,
   "id": "f45f1164-f5ec-4499-a14f-e2bbfe23c66d",
   "metadata": {},
   "outputs": [],
   "source": [
    "type(data_testing)"
   ]
  },
  {
   "cell_type": "code",
   "execution_count": null,
   "id": "605dc2a0-e631-4550-a732-054117b95a2a",
   "metadata": {},
   "outputs": [],
   "source": []
  },
  {
   "cell_type": "markdown",
   "id": "f00bee79-3a14-4c04-95e6-be59c5927efb",
   "metadata": {},
   "source": [
    "# Scaling down the data between 0 & 1"
   ]
  },
  {
   "cell_type": "code",
   "execution_count": 39,
   "id": "c4e42b1c-a200-493d-a31c-8f813424c9c4",
   "metadata": {},
   "outputs": [],
   "source": [
    "from sklearn.preprocessing import MinMaxScaler\n",
    "scaler = MinMaxScaler(feature_range=(0, 1))"
   ]
  },
  {
   "cell_type": "code",
   "execution_count": 40,
   "id": "5cdb7e83-ddc5-47d3-b625-ce0a4e4418e6",
   "metadata": {},
   "outputs": [
    {
     "data": {
      "text/plain": [
       "array([[0.01765408],\n",
       "       [0.01567802],\n",
       "       [0.01342233],\n",
       "       ...,\n",
       "       [0.89045895],\n",
       "       [0.90007823],\n",
       "       [0.89717007]])"
      ]
     },
     "execution_count": 40,
     "metadata": {},
     "output_type": "execute_result"
    }
   ],
   "source": [
    "data_training_array = scaler.fit_transform(data_training)\n",
    "data_training_array"
   ]
  },
  {
   "cell_type": "code",
   "execution_count": 41,
   "id": "4f103e12-7a9a-416c-8f52-87c837640fba",
   "metadata": {},
   "outputs": [
    {
     "data": {
      "text/plain": [
       "numpy.ndarray"
      ]
     },
     "execution_count": 41,
     "metadata": {},
     "output_type": "execute_result"
    }
   ],
   "source": [
    "type(data_training_array)"
   ]
  },
  {
   "cell_type": "code",
   "execution_count": 42,
   "id": "1c8e0efb-24f8-44d7-8ffb-51d403310590",
   "metadata": {},
   "outputs": [
    {
     "data": {
      "text/plain": [
       "(1761, 1)"
      ]
     },
     "execution_count": 42,
     "metadata": {},
     "output_type": "execute_result"
    }
   ],
   "source": [
    "data_training_array.shape"
   ]
  },
  {
   "cell_type": "code",
   "execution_count": null,
   "id": "ef5d0e91-5814-44b1-a7f1-c9acc42502aa",
   "metadata": {},
   "outputs": [],
   "source": []
  },
  {
   "cell_type": "markdown",
   "id": "2510bfdf-1155-420d-80e7-19660585e01a",
   "metadata": {},
   "source": [
    "# 5. Sequence Creation"
   ]
  },
  {
   "cell_type": "code",
   "execution_count": null,
   "id": "696f8357-9553-4fa7-80c6-33ff0855878a",
   "metadata": {},
   "outputs": [],
   "source": [
    "x_train = []\n",
    "y_train = []\n",
    "\n",
    "for i in range(100, data_training_array.shape[0]):\n",
    "    x_train.append(data_training_array[i-100: i])\n",
    "    y_train.append(data_training_array[i, 0])\n",
    "\n",
    "x_train, y_train = np.array(x_train), np.array(y_train)"
   ]
  },
  {
   "cell_type": "code",
   "execution_count": null,
   "id": "630190dd-55df-40ff-bff4-f98de01f3fbd",
   "metadata": {},
   "outputs": [],
   "source": [
    "x_train"
   ]
  },
  {
   "cell_type": "code",
   "execution_count": null,
   "id": "557e65c2-a100-4b7a-8372-4eb8d03a2bbb",
   "metadata": {},
   "outputs": [],
   "source": [
    "y_train"
   ]
  },
  {
   "cell_type": "code",
   "execution_count": null,
   "id": "4d639e73-cf2d-4755-b575-9d375077985b",
   "metadata": {},
   "outputs": [],
   "source": [
    "x_train.ndim"
   ]
  },
  {
   "cell_type": "code",
   "execution_count": null,
   "id": "a8583d9c-6af7-4858-8d98-19973bb4f564",
   "metadata": {},
   "outputs": [],
   "source": [
    "y_train.ndim"
   ]
  },
  {
   "cell_type": "code",
   "execution_count": null,
   "id": "7c028bb8-dab2-4ee6-bced-8d78ef837edd",
   "metadata": {},
   "outputs": [],
   "source": [
    "x_train.shape"
   ]
  },
  {
   "cell_type": "code",
   "execution_count": null,
   "id": "86b770e6-efd0-4647-afea-e6232aa693cc",
   "metadata": {},
   "outputs": [],
   "source": [
    "y_train.shape"
   ]
  },
  {
   "cell_type": "code",
   "execution_count": null,
   "id": "e66b5d79-91e1-47c8-9642-ea9cdf5507f3",
   "metadata": {},
   "outputs": [],
   "source": []
  },
  {
   "cell_type": "markdown",
   "id": "152037be-e368-4eda-ad06-28833d945948",
   "metadata": {},
   "source": [
    "# 6. Model Building"
   ]
  },
  {
   "cell_type": "code",
   "execution_count": null,
   "id": "9c33459a-61e3-4ee5-a30a-7f2420ee7381",
   "metadata": {},
   "outputs": [],
   "source": [
    "import tensorflow as tf\n",
    "print(tf.__version__)"
   ]
  },
  {
   "cell_type": "code",
   "execution_count": null,
   "id": "dbea2d20-5a41-445a-9433-067ae190f45e",
   "metadata": {},
   "outputs": [],
   "source": [
    "# Ml Model\n",
    "from keras.models import Sequential\n",
    "from keras.layers import Dense, LSTM, Input"
   ]
  },
  {
   "cell_type": "code",
   "execution_count": null,
   "id": "85d2a5aa-06f1-493d-9533-2d496a134dfa",
   "metadata": {},
   "outputs": [],
   "source": [
    "model = Sequential()\n",
    "\n",
    "model.add(Input(shape=(100, 1))) # Couche d'entrée\n",
    "model.add(LSTM(units=128, activation='tanh', return_sequences=True)) # 128 neurones, la couche LSTM produira une sortie pour chacun de ces couches\n",
    "model.add(LSTM(units=64)) # Cette couche prend la séquence de sortie générée par la première couche et produira une unique sortie\n",
    "model.add(Dense(25)) # 25 résultats uniques seront produits \n",
    "model.add(Dense(1)) # il les combine en une seule sortie. Il donne la prévision finale du prix."
   ]
  },
  {
   "cell_type": "code",
   "execution_count": null,
   "id": "30376771-3d41-4ba5-a18d-3590b9e97697",
   "metadata": {},
   "outputs": [],
   "source": []
  },
  {
   "cell_type": "markdown",
   "id": "a46dc513-ab0b-407e-824b-1ca2076f7b6d",
   "metadata": {},
   "source": [
    "# 7. Model Training"
   ]
  },
  {
   "cell_type": "code",
   "execution_count": null,
   "id": "43782166-85b5-44d3-8a35-599ca9b6b08d",
   "metadata": {},
   "outputs": [],
   "source": [
    "model.compile(optimizer='adam', loss='mean_squared_error')\n",
    "model.fit(x_train, y_train, epochs=50)  # epochs=50 === Lire les données 50 fois"
   ]
  },
  {
   "cell_type": "code",
   "execution_count": null,
   "id": "cbffbdb6-4644-4cf4-a89c-177b00466a85",
   "metadata": {},
   "outputs": [],
   "source": [
    "model.summary()"
   ]
  },
  {
   "cell_type": "code",
   "execution_count": null,
   "id": "89de2d2e-47c1-4bb9-a1a9-f2faa7b440eb",
   "metadata": {},
   "outputs": [],
   "source": [
    "# save the trained model\n",
    "model.save('stock_prediction__model.keras')"
   ]
  },
  {
   "cell_type": "code",
   "execution_count": null,
   "id": "526cc8a1-3189-4acf-86ff-043fbf2788de",
   "metadata": {},
   "outputs": [],
   "source": []
  },
  {
   "cell_type": "markdown",
   "id": "50731410-c7ae-411e-aebc-e9d4fc313947",
   "metadata": {},
   "source": [
    "# 8. Preparing Test Data"
   ]
  },
  {
   "cell_type": "code",
   "execution_count": 32,
   "id": "cdfa1a44-5474-4b08-a339-48c0713de940",
   "metadata": {},
   "outputs": [
    {
     "data": {
      "text/html": [
       "<div>\n",
       "<style scoped>\n",
       "    .dataframe tbody tr th:only-of-type {\n",
       "        vertical-align: middle;\n",
       "    }\n",
       "\n",
       "    .dataframe tbody tr th {\n",
       "        vertical-align: top;\n",
       "    }\n",
       "\n",
       "    .dataframe thead th {\n",
       "        text-align: right;\n",
       "    }\n",
       "</style>\n",
       "<table border=\"1\" class=\"dataframe\">\n",
       "  <thead>\n",
       "    <tr style=\"text-align: right;\">\n",
       "      <th></th>\n",
       "      <th>Close</th>\n",
       "    </tr>\n",
       "  </thead>\n",
       "  <tbody>\n",
       "    <tr>\n",
       "      <th>1661</th>\n",
       "      <td>124.690002</td>\n",
       "    </tr>\n",
       "    <tr>\n",
       "      <th>1662</th>\n",
       "      <td>127.309998</td>\n",
       "    </tr>\n",
       "    <tr>\n",
       "      <th>1663</th>\n",
       "      <td>125.430000</td>\n",
       "    </tr>\n",
       "    <tr>\n",
       "      <th>1664</th>\n",
       "      <td>127.099998</td>\n",
       "    </tr>\n",
       "    <tr>\n",
       "      <th>1665</th>\n",
       "      <td>126.900002</td>\n",
       "    </tr>\n",
       "    <tr>\n",
       "      <th>...</th>\n",
       "      <td>...</td>\n",
       "    </tr>\n",
       "    <tr>\n",
       "      <th>1756</th>\n",
       "      <td>139.139999</td>\n",
       "    </tr>\n",
       "    <tr>\n",
       "      <th>1757</th>\n",
       "      <td>141.110001</td>\n",
       "    </tr>\n",
       "    <tr>\n",
       "      <th>1758</th>\n",
       "      <td>142.000000</td>\n",
       "    </tr>\n",
       "    <tr>\n",
       "      <th>1759</th>\n",
       "      <td>143.289993</td>\n",
       "    </tr>\n",
       "    <tr>\n",
       "      <th>1760</th>\n",
       "      <td>142.899994</td>\n",
       "    </tr>\n",
       "  </tbody>\n",
       "</table>\n",
       "<p>100 rows × 1 columns</p>\n",
       "</div>"
      ],
      "text/plain": [
       "           Close\n",
       "1661  124.690002\n",
       "1662  127.309998\n",
       "1663  125.430000\n",
       "1664  127.099998\n",
       "1665  126.900002\n",
       "...          ...\n",
       "1756  139.139999\n",
       "1757  141.110001\n",
       "1758  142.000000\n",
       "1759  143.289993\n",
       "1760  142.899994\n",
       "\n",
       "[100 rows x 1 columns]"
      ]
     },
     "execution_count": 32,
     "metadata": {},
     "output_type": "execute_result"
    }
   ],
   "source": [
    "data_training.tail(100)"
   ]
  },
  {
   "cell_type": "code",
   "execution_count": 30,
   "id": "67c05dfc-c8e1-48f4-8809-a90250a04b1f",
   "metadata": {},
   "outputs": [
    {
     "data": {
      "text/html": [
       "<div>\n",
       "<style scoped>\n",
       "    .dataframe tbody tr th:only-of-type {\n",
       "        vertical-align: middle;\n",
       "    }\n",
       "\n",
       "    .dataframe tbody tr th {\n",
       "        vertical-align: top;\n",
       "    }\n",
       "\n",
       "    .dataframe thead th {\n",
       "        text-align: right;\n",
       "    }\n",
       "</style>\n",
       "<table border=\"1\" class=\"dataframe\">\n",
       "  <thead>\n",
       "    <tr style=\"text-align: right;\">\n",
       "      <th></th>\n",
       "      <th>Close</th>\n",
       "    </tr>\n",
       "  </thead>\n",
       "  <tbody>\n",
       "    <tr>\n",
       "      <th>1761</th>\n",
       "      <td>142.809998</td>\n",
       "    </tr>\n",
       "    <tr>\n",
       "      <th>1762</th>\n",
       "      <td>141.509995</td>\n",
       "    </tr>\n",
       "    <tr>\n",
       "      <th>1763</th>\n",
       "      <td>140.910004</td>\n",
       "    </tr>\n",
       "    <tr>\n",
       "      <th>1764</th>\n",
       "      <td>143.759995</td>\n",
       "    </tr>\n",
       "    <tr>\n",
       "      <th>1765</th>\n",
       "      <td>144.839996</td>\n",
       "    </tr>\n",
       "    <tr>\n",
       "      <th>...</th>\n",
       "      <td>...</td>\n",
       "    </tr>\n",
       "    <tr>\n",
       "      <th>2512</th>\n",
       "      <td>221.690002</td>\n",
       "    </tr>\n",
       "    <tr>\n",
       "      <th>2513</th>\n",
       "      <td>225.770004</td>\n",
       "    </tr>\n",
       "    <tr>\n",
       "      <th>2514</th>\n",
       "      <td>229.539993</td>\n",
       "    </tr>\n",
       "    <tr>\n",
       "      <th>2515</th>\n",
       "      <td>229.039993</td>\n",
       "    </tr>\n",
       "    <tr>\n",
       "      <th>2516</th>\n",
       "      <td>227.550003</td>\n",
       "    </tr>\n",
       "  </tbody>\n",
       "</table>\n",
       "<p>756 rows × 1 columns</p>\n",
       "</div>"
      ],
      "text/plain": [
       "           Close\n",
       "1761  142.809998\n",
       "1762  141.509995\n",
       "1763  140.910004\n",
       "1764  143.759995\n",
       "1765  144.839996\n",
       "...          ...\n",
       "2512  221.690002\n",
       "2513  225.770004\n",
       "2514  229.539993\n",
       "2515  229.039993\n",
       "2516  227.550003\n",
       "\n",
       "[756 rows x 1 columns]"
      ]
     },
     "execution_count": 30,
     "metadata": {},
     "output_type": "execute_result"
    }
   ],
   "source": [
    "data_testing"
   ]
  },
  {
   "cell_type": "code",
   "execution_count": 33,
   "id": "1f6ec742-2c3c-4f7a-b1ec-5d0b2de53dcc",
   "metadata": {},
   "outputs": [],
   "source": [
    "past_100_days = data_training.tail(100)"
   ]
  },
  {
   "cell_type": "code",
   "execution_count": 36,
   "id": "d9100907-96a2-431d-9ece-f2a8b50d4165",
   "metadata": {},
   "outputs": [
    {
     "data": {
      "text/html": [
       "<div>\n",
       "<style scoped>\n",
       "    .dataframe tbody tr th:only-of-type {\n",
       "        vertical-align: middle;\n",
       "    }\n",
       "\n",
       "    .dataframe tbody tr th {\n",
       "        vertical-align: top;\n",
       "    }\n",
       "\n",
       "    .dataframe thead th {\n",
       "        text-align: right;\n",
       "    }\n",
       "</style>\n",
       "<table border=\"1\" class=\"dataframe\">\n",
       "  <thead>\n",
       "    <tr style=\"text-align: right;\">\n",
       "      <th></th>\n",
       "      <th>Close</th>\n",
       "    </tr>\n",
       "  </thead>\n",
       "  <tbody>\n",
       "    <tr>\n",
       "      <th>1661</th>\n",
       "      <td>124.690002</td>\n",
       "    </tr>\n",
       "    <tr>\n",
       "      <th>1662</th>\n",
       "      <td>127.309998</td>\n",
       "    </tr>\n",
       "    <tr>\n",
       "      <th>1663</th>\n",
       "      <td>125.430000</td>\n",
       "    </tr>\n",
       "    <tr>\n",
       "      <th>1664</th>\n",
       "      <td>127.099998</td>\n",
       "    </tr>\n",
       "    <tr>\n",
       "      <th>1665</th>\n",
       "      <td>126.900002</td>\n",
       "    </tr>\n",
       "    <tr>\n",
       "      <th>...</th>\n",
       "      <td>...</td>\n",
       "    </tr>\n",
       "    <tr>\n",
       "      <th>1756</th>\n",
       "      <td>139.139999</td>\n",
       "    </tr>\n",
       "    <tr>\n",
       "      <th>1757</th>\n",
       "      <td>141.110001</td>\n",
       "    </tr>\n",
       "    <tr>\n",
       "      <th>1758</th>\n",
       "      <td>142.000000</td>\n",
       "    </tr>\n",
       "    <tr>\n",
       "      <th>1759</th>\n",
       "      <td>143.289993</td>\n",
       "    </tr>\n",
       "    <tr>\n",
       "      <th>1760</th>\n",
       "      <td>142.899994</td>\n",
       "    </tr>\n",
       "  </tbody>\n",
       "</table>\n",
       "<p>100 rows × 1 columns</p>\n",
       "</div>"
      ],
      "text/plain": [
       "           Close\n",
       "1661  124.690002\n",
       "1662  127.309998\n",
       "1663  125.430000\n",
       "1664  127.099998\n",
       "1665  126.900002\n",
       "...          ...\n",
       "1756  139.139999\n",
       "1757  141.110001\n",
       "1758  142.000000\n",
       "1759  143.289993\n",
       "1760  142.899994\n",
       "\n",
       "[100 rows x 1 columns]"
      ]
     },
     "execution_count": 36,
     "metadata": {},
     "output_type": "execute_result"
    }
   ],
   "source": [
    "past_100_days"
   ]
  },
  {
   "cell_type": "code",
   "execution_count": 37,
   "id": "abcd834a-f34d-4b7e-ab03-29dbdf3add0f",
   "metadata": {},
   "outputs": [
    {
     "data": {
      "text/html": [
       "<div>\n",
       "<style scoped>\n",
       "    .dataframe tbody tr th:only-of-type {\n",
       "        vertical-align: middle;\n",
       "    }\n",
       "\n",
       "    .dataframe tbody tr th {\n",
       "        vertical-align: top;\n",
       "    }\n",
       "\n",
       "    .dataframe thead th {\n",
       "        text-align: right;\n",
       "    }\n",
       "</style>\n",
       "<table border=\"1\" class=\"dataframe\">\n",
       "  <thead>\n",
       "    <tr style=\"text-align: right;\">\n",
       "      <th></th>\n",
       "      <th>Close</th>\n",
       "    </tr>\n",
       "  </thead>\n",
       "  <tbody>\n",
       "    <tr>\n",
       "      <th>0</th>\n",
       "      <td>124.690002</td>\n",
       "    </tr>\n",
       "    <tr>\n",
       "      <th>1</th>\n",
       "      <td>127.309998</td>\n",
       "    </tr>\n",
       "    <tr>\n",
       "      <th>2</th>\n",
       "      <td>125.430000</td>\n",
       "    </tr>\n",
       "    <tr>\n",
       "      <th>3</th>\n",
       "      <td>127.099998</td>\n",
       "    </tr>\n",
       "    <tr>\n",
       "      <th>4</th>\n",
       "      <td>126.900002</td>\n",
       "    </tr>\n",
       "    <tr>\n",
       "      <th>...</th>\n",
       "      <td>...</td>\n",
       "    </tr>\n",
       "    <tr>\n",
       "      <th>851</th>\n",
       "      <td>221.690002</td>\n",
       "    </tr>\n",
       "    <tr>\n",
       "      <th>852</th>\n",
       "      <td>225.770004</td>\n",
       "    </tr>\n",
       "    <tr>\n",
       "      <th>853</th>\n",
       "      <td>229.539993</td>\n",
       "    </tr>\n",
       "    <tr>\n",
       "      <th>854</th>\n",
       "      <td>229.039993</td>\n",
       "    </tr>\n",
       "    <tr>\n",
       "      <th>855</th>\n",
       "      <td>227.550003</td>\n",
       "    </tr>\n",
       "  </tbody>\n",
       "</table>\n",
       "<p>856 rows × 1 columns</p>\n",
       "</div>"
      ],
      "text/plain": [
       "          Close\n",
       "0    124.690002\n",
       "1    127.309998\n",
       "2    125.430000\n",
       "3    127.099998\n",
       "4    126.900002\n",
       "..          ...\n",
       "851  221.690002\n",
       "852  225.770004\n",
       "853  229.539993\n",
       "854  229.039993\n",
       "855  227.550003\n",
       "\n",
       "[856 rows x 1 columns]"
      ]
     },
     "execution_count": 37,
     "metadata": {},
     "output_type": "execute_result"
    }
   ],
   "source": [
    "final_df = pd.concat([past_100_days, data_testing], ignore_index=True)\n",
    "final_df"
   ]
  },
  {
   "cell_type": "code",
   "execution_count": 1,
   "id": "c983eb6c-ba1d-4fa3-ad15-4ce725b5befc",
   "metadata": {},
   "outputs": [
    {
     "ename": "NameError",
     "evalue": "name 'scaler' is not defined",
     "output_type": "error",
     "traceback": [
      "\u001b[1;31m---------------------------------------------------------------------------\u001b[0m",
      "\u001b[1;31mNameError\u001b[0m                                 Traceback (most recent call last)",
      "Cell \u001b[1;32mIn[1], line 2\u001b[0m\n\u001b[0;32m      1\u001b[0m \u001b[38;5;66;03m# Convert data between 0 & 1\u001b[39;00m\n\u001b[1;32m----> 2\u001b[0m input_data \u001b[38;5;241m=\u001b[39m scaler\u001b[38;5;241m.\u001b[39mfit_transform(final_df)\n\u001b[0;32m      3\u001b[0m input_data\n",
      "\u001b[1;31mNameError\u001b[0m: name 'scaler' is not defined"
     ]
    }
   ],
   "source": [
    "# Convert data between 0 & 1\n",
    "input_data = scaler.fit_transform(final_df)\n",
    "input_data"
   ]
  },
  {
   "cell_type": "code",
   "execution_count": 44,
   "id": "f8032108-a681-4c8b-9c55-33fb77c082da",
   "metadata": {},
   "outputs": [
    {
     "data": {
      "text/plain": [
       "(856, 1)"
      ]
     },
     "execution_count": 44,
     "metadata": {},
     "output_type": "execute_result"
    }
   ],
   "source": [
    "input_data.shape"
   ]
  },
  {
   "cell_type": "code",
   "execution_count": null,
   "id": "4d705f8c-55e1-4d0c-b1e8-593acdf2ccc3",
   "metadata": {},
   "outputs": [],
   "source": [
    "x_test = []\n",
    "y_test = []\n",
    "\n",
    "for i in range(100, input_data.shape[0]):\n",
    "    x_test.append(input_data[i-100: i])\n",
    "    y_test.append(input_data[i, 0])\n",
    "\n",
    "x_test, y_test = np.array(x_test), np.array(y_test)"
   ]
  },
  {
   "cell_type": "code",
   "execution_count": null,
   "id": "e47403b6-be0d-4881-8afd-0df857ff2af9",
   "metadata": {},
   "outputs": [],
   "source": [
    "x_test"
   ]
  },
  {
   "cell_type": "code",
   "execution_count": null,
   "id": "2ecfe7a3-46c4-4930-b732-6f5325bc9dc3",
   "metadata": {},
   "outputs": [],
   "source": [
    "x_test[0].shape"
   ]
  },
  {
   "cell_type": "code",
   "execution_count": null,
   "id": "634d8ca6-f111-46fe-b701-3190797571a7",
   "metadata": {},
   "outputs": [],
   "source": []
  },
  {
   "cell_type": "markdown",
   "id": "beacd140-9dfd-4850-8ffd-28f083fc1a06",
   "metadata": {},
   "source": [
    "# 9. Making Predictions"
   ]
  },
  {
   "cell_type": "code",
   "execution_count": null,
   "id": "6f2c41d8-60ea-4fc9-83d9-c72f68056c40",
   "metadata": {},
   "outputs": [],
   "source": [
    "y_predicted = model.predict(x_test)  # Nous sommes entrain de soumettre les 100 données extraits de y_training au model pour prédiction"
   ]
  },
  {
   "cell_type": "code",
   "execution_count": null,
   "id": "0b2cb7b1-e1de-43ca-9617-818210ff21c2",
   "metadata": {},
   "outputs": [],
   "source": [
    "y_predicted"
   ]
  },
  {
   "cell_type": "code",
   "execution_count": null,
   "id": "f053206d-14d8-4a58-9897-cc11ea189dcc",
   "metadata": {},
   "outputs": [],
   "source": [
    "y_test"
   ]
  },
  {
   "cell_type": "code",
   "execution_count": null,
   "id": "fb305cc9-d001-4700-a337-31b9b96658e4",
   "metadata": {},
   "outputs": [],
   "source": []
  },
  {
   "cell_type": "code",
   "execution_count": null,
   "id": "4c5a741d-0c46-447a-8661-77acf8b45d73",
   "metadata": {},
   "outputs": [],
   "source": [
    "y_predicted = scaler.inverse_transform(y_predicted.reshape(-1, 1)).flatten()\n",
    "y_test = scaler.inverse_transform(y_test.reshape(-1, 1)).flatten()"
   ]
  },
  {
   "cell_type": "code",
   "execution_count": null,
   "id": "4409d7d7-ba2a-42ea-ab98-4cc05e1991da",
   "metadata": {},
   "outputs": [],
   "source": [
    "y_predicted"
   ]
  },
  {
   "cell_type": "code",
   "execution_count": null,
   "id": "fbab1d05-f370-4af3-be82-530d25fe02dc",
   "metadata": {},
   "outputs": [],
   "source": [
    "y_test"
   ]
  },
  {
   "cell_type": "code",
   "execution_count": null,
   "id": "33d77206-8cb3-4036-9abc-abbf0f184470",
   "metadata": {},
   "outputs": [],
   "source": [
    "plt.figure(figsize=(14, 5))\n",
    "plt.plot(y_test, 'b', label='Original Price')\n",
    "plt.plot(y_predicted, 'r', label='Predicated Price')\n",
    "plt.xlabel('Days');\n",
    "plt.ylabel('Price');\n",
    "plt.legend()"
   ]
  },
  {
   "cell_type": "code",
   "execution_count": null,
   "id": "2ce948e6-069b-4aa7-a4b7-2e9e7d618714",
   "metadata": {},
   "outputs": [],
   "source": []
  },
  {
   "cell_type": "markdown",
   "id": "2a27669a-c187-4d80-b7c5-db8b376ddc17",
   "metadata": {},
   "source": [
    "# 10. Model Evaluation"
   ]
  },
  {
   "cell_type": "code",
   "execution_count": null,
   "id": "fc382765-55e1-49be-b404-24b16cf813ff",
   "metadata": {},
   "outputs": [],
   "source": [
    "# Mean Squared Error (MSE)\n",
    "from sklearn.metrics import mean_squared_error, r2_score"
   ]
  },
  {
   "cell_type": "code",
   "execution_count": null,
   "id": "66b37daa-e2c1-4264-ae0f-c9ed49bed435",
   "metadata": {},
   "outputs": [],
   "source": [
    "mse = mean_squared_error(y_test, y_predicted)\n",
    "print(f\"Mean Squared Error (MSE): {mse}\")"
   ]
  },
  {
   "cell_type": "code",
   "execution_count": null,
   "id": "21766c00-391a-42e4-ac53-dc5d2f2c6dc1",
   "metadata": {},
   "outputs": [],
   "source": []
  },
  {
   "cell_type": "code",
   "execution_count": null,
   "id": "6de9eaa6-4dff-496f-aabe-954907be9a76",
   "metadata": {},
   "outputs": [],
   "source": [
    "# Root Mean Squared Error (RMSE)\n",
    "rmse = np.sqrt(mse)\n",
    "print(f\"Root Mean Squared Error (RMSE): {rmse} # $ de pertes ou selon la monnaie\")"
   ]
  },
  {
   "cell_type": "code",
   "execution_count": null,
   "id": "c9b6af1d-5a07-4eae-bf67-dc4e3612e511",
   "metadata": {},
   "outputs": [],
   "source": []
  },
  {
   "cell_type": "code",
   "execution_count": null,
   "id": "d43206db-51cd-47cf-ba44-328090216a07",
   "metadata": {},
   "outputs": [],
   "source": []
  },
  {
   "cell_type": "code",
   "execution_count": null,
   "id": "658be56c-6207-496e-8e42-6c5f1d082781",
   "metadata": {},
   "outputs": [],
   "source": [
    "# R-Squared \n",
    "r2 = r2_score(y_test, y_predicted)\n",
    "print(f\"R-Squared: {r2}\")"
   ]
  },
  {
   "cell_type": "code",
   "execution_count": null,
   "id": "cc8b11a4-91c9-42b6-a6f8-b139e89a1488",
   "metadata": {},
   "outputs": [],
   "source": []
  }
 ],
 "metadata": {
  "kernelspec": {
   "display_name": "Python 3 (ipykernel)",
   "language": "python",
   "name": "python3"
  },
  "language_info": {
   "codemirror_mode": {
    "name": "ipython",
    "version": 3
   },
   "file_extension": ".py",
   "mimetype": "text/x-python",
   "name": "python",
   "nbconvert_exporter": "python",
   "pygments_lexer": "ipython3",
   "version": "3.12.7"
  }
 },
 "nbformat": 4,
 "nbformat_minor": 5
}
